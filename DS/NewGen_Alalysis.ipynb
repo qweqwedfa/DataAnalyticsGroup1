{
 "cells": [
  {
   "cell_type": "code",
   "execution_count": 1,
   "metadata": {},
   "outputs": [
    {
     "name": "stdout",
     "output_type": "stream",
     "text": [
      "(7044, 15295) (7044,) Counter({1: 5174, 2: 1869, 0: 1})\n"
     ]
    },
    {
     "name": "stderr",
     "output_type": "stream",
     "text": [
      "/Users/yanhanjun/Library/Python/3.9/lib/python/site-packages/sklearn/model_selection/_split.py:725: UserWarning: The least populated class in y has only 1 members, which is less than n_splits=10.\n",
      "  warnings.warn(\n",
      "/Users/yanhanjun/Library/Python/3.9/lib/python/site-packages/sklearn/model_selection/_split.py:725: UserWarning: The least populated class in y has only 1 members, which is less than n_splits=10.\n",
      "  warnings.warn(\n"
     ]
    },
    {
     "name": "stdout",
     "output_type": "stream",
     "text": [
      "Mean F2: nan (nan)\n"
     ]
    },
    {
     "name": "stderr",
     "output_type": "stream",
     "text": [
      "/Users/yanhanjun/Library/Python/3.9/lib/python/site-packages/sklearn/model_selection/_split.py:725: UserWarning: The least populated class in y has only 1 members, which is less than n_splits=10.\n",
      "  warnings.warn(\n",
      "/Users/yanhanjun/Library/Python/3.9/lib/python/site-packages/sklearn/model_selection/_validation.py:842: UserWarning: Scoring failed. The score on this train-test partition for these parameters will be set to nan. Details: \n",
      "Traceback (most recent call last):\n",
      "  File \"/Users/yanhanjun/Library/Python/3.9/lib/python/site-packages/sklearn/metrics/_scorer.py\", line 136, in __call__\n",
      "    score = scorer._score(\n",
      "  File \"/Users/yanhanjun/Library/Python/3.9/lib/python/site-packages/sklearn/metrics/_scorer.py\", line 355, in _score\n",
      "    return self._sign * self._score_func(y_true, y_pred, **scoring_kwargs)\n",
      "  File \"/var/folders/8t/3xrvdszj1g75llc2jb40dnvw0000gn/T/ipykernel_10918/985962909.py\", line 33, in f2\n",
      "  File \"/Users/yanhanjun/Library/Python/3.9/lib/python/site-packages/sklearn/utils/_param_validation.py\", line 211, in wrapper\n",
      "    return func(*args, **kwargs)\n",
      "  File \"/Users/yanhanjun/Library/Python/3.9/lib/python/site-packages/sklearn/metrics/_classification.py\", line 1411, in fbeta_score\n",
      "    _, _, f, _ = precision_recall_fscore_support(\n",
      "  File \"/Users/yanhanjun/Library/Python/3.9/lib/python/site-packages/sklearn/utils/_param_validation.py\", line 184, in wrapper\n",
      "    return func(*args, **kwargs)\n",
      "  File \"/Users/yanhanjun/Library/Python/3.9/lib/python/site-packages/sklearn/metrics/_classification.py\", line 1721, in precision_recall_fscore_support\n",
      "    labels = _check_set_wise_labels(y_true, y_pred, average, labels, pos_label)\n",
      "  File \"/Users/yanhanjun/Library/Python/3.9/lib/python/site-packages/sklearn/metrics/_classification.py\", line 1516, in _check_set_wise_labels\n",
      "    raise ValueError(\n",
      "ValueError: Target is multiclass but average='binary'. Please choose another average setting, one of [None, 'micro', 'macro', 'weighted'].\n",
      "\n",
      "  warnings.warn(\n",
      "/Users/yanhanjun/Library/Python/3.9/lib/python/site-packages/sklearn/model_selection/_validation.py:842: UserWarning: Scoring failed. The score on this train-test partition for these parameters will be set to nan. Details: \n",
      "Traceback (most recent call last):\n",
      "  File \"/Users/yanhanjun/Library/Python/3.9/lib/python/site-packages/sklearn/metrics/_scorer.py\", line 136, in __call__\n",
      "    score = scorer._score(\n",
      "  File \"/Users/yanhanjun/Library/Python/3.9/lib/python/site-packages/sklearn/metrics/_scorer.py\", line 355, in _score\n",
      "    return self._sign * self._score_func(y_true, y_pred, **scoring_kwargs)\n",
      "  File \"/var/folders/8t/3xrvdszj1g75llc2jb40dnvw0000gn/T/ipykernel_10918/985962909.py\", line 33, in f2\n",
      "  File \"/Users/yanhanjun/Library/Python/3.9/lib/python/site-packages/sklearn/utils/_param_validation.py\", line 211, in wrapper\n",
      "    return func(*args, **kwargs)\n",
      "  File \"/Users/yanhanjun/Library/Python/3.9/lib/python/site-packages/sklearn/metrics/_classification.py\", line 1411, in fbeta_score\n",
      "    _, _, f, _ = precision_recall_fscore_support(\n",
      "  File \"/Users/yanhanjun/Library/Python/3.9/lib/python/site-packages/sklearn/utils/_param_validation.py\", line 184, in wrapper\n",
      "    return func(*args, **kwargs)\n",
      "  File \"/Users/yanhanjun/Library/Python/3.9/lib/python/site-packages/sklearn/metrics/_classification.py\", line 1721, in precision_recall_fscore_support\n",
      "    labels = _check_set_wise_labels(y_true, y_pred, average, labels, pos_label)\n",
      "  File \"/Users/yanhanjun/Library/Python/3.9/lib/python/site-packages/sklearn/metrics/_classification.py\", line 1516, in _check_set_wise_labels\n",
      "    raise ValueError(\n",
      "ValueError: Target is multiclass but average='binary'. Please choose another average setting, one of [None, 'micro', 'macro', 'weighted'].\n",
      "\n",
      "  warnings.warn(\n",
      "/Users/yanhanjun/Library/Python/3.9/lib/python/site-packages/sklearn/model_selection/_validation.py:842: UserWarning: Scoring failed. The score on this train-test partition for these parameters will be set to nan. Details: \n",
      "Traceback (most recent call last):\n",
      "  File \"/Users/yanhanjun/Library/Python/3.9/lib/python/site-packages/sklearn/metrics/_scorer.py\", line 136, in __call__\n",
      "    score = scorer._score(\n",
      "  File \"/Users/yanhanjun/Library/Python/3.9/lib/python/site-packages/sklearn/metrics/_scorer.py\", line 355, in _score\n",
      "    return self._sign * self._score_func(y_true, y_pred, **scoring_kwargs)\n",
      "  File \"/var/folders/8t/3xrvdszj1g75llc2jb40dnvw0000gn/T/ipykernel_10918/985962909.py\", line 33, in f2\n",
      "  File \"/Users/yanhanjun/Library/Python/3.9/lib/python/site-packages/sklearn/utils/_param_validation.py\", line 211, in wrapper\n",
      "    return func(*args, **kwargs)\n",
      "  File \"/Users/yanhanjun/Library/Python/3.9/lib/python/site-packages/sklearn/metrics/_classification.py\", line 1411, in fbeta_score\n",
      "    _, _, f, _ = precision_recall_fscore_support(\n",
      "  File \"/Users/yanhanjun/Library/Python/3.9/lib/python/site-packages/sklearn/utils/_param_validation.py\", line 184, in wrapper\n",
      "    return func(*args, **kwargs)\n",
      "  File \"/Users/yanhanjun/Library/Python/3.9/lib/python/site-packages/sklearn/metrics/_classification.py\", line 1721, in precision_recall_fscore_support\n",
      "    labels = _check_set_wise_labels(y_true, y_pred, average, labels, pos_label)\n",
      "  File \"/Users/yanhanjun/Library/Python/3.9/lib/python/site-packages/sklearn/metrics/_classification.py\", line 1516, in _check_set_wise_labels\n",
      "    raise ValueError(\n",
      "ValueError: Target is multiclass but average='binary'. Please choose another average setting, one of [None, 'micro', 'macro', 'weighted'].\n",
      "\n",
      "  warnings.warn(\n"
     ]
    }
   ],
   "source": [
    "# test harness and baseline model evaluation for the german credit dataset\n",
    "from collections import Counter\n",
    "from numpy import mean\n",
    "from numpy import std\n",
    "from pandas import read_csv\n",
    "from sklearn.preprocessing import LabelEncoder\n",
    "from sklearn.preprocessing import OneHotEncoder\n",
    "from sklearn.compose import ColumnTransformer\n",
    "from sklearn.model_selection import cross_val_score\n",
    "from sklearn.model_selection import RepeatedStratifiedKFold\n",
    "from sklearn.metrics import fbeta_score\n",
    "from sklearn.metrics import make_scorer\n",
    "from sklearn.dummy import DummyClassifier\n",
    "\n",
    "# load the dataset\n",
    "def load_dataset(full_path):\n",
    "\t# load the dataset as a numpy array\n",
    "\tdataframe = read_csv(full_path, header=None)\n",
    "\t# split into inputs and outputs\n",
    "\tlast_ix = len(dataframe.columns) - 1\n",
    "\tX, y = dataframe.drop(last_ix, axis=1), dataframe[last_ix]\n",
    "\t# select categorical features\n",
    "\tcat_ix = X.select_dtypes(include=['object', 'bool']).columns\n",
    "\t# one hot encode cat features only\n",
    "\tct = ColumnTransformer([('o',OneHotEncoder(),cat_ix)], remainder='passthrough')\n",
    "\tX = ct.fit_transform(X)\n",
    "\t# label encode the target variable to have the classes 0 and 1\n",
    "\ty = LabelEncoder().fit_transform(y)\n",
    "\treturn X, y\n",
    "\n",
    "# calculate f2 score\n",
    "def f2(y_true, y_pred):\n",
    "\treturn fbeta_score(y_true, y_pred, beta=2)\n",
    "\n",
    "# evaluate a model\n",
    "def evaluate_model(X, y, model):\n",
    "\t# define evaluation procedure\n",
    "\tcv = RepeatedStratifiedKFold(n_splits=10, n_repeats=3, random_state=1)\n",
    "\t# define the model evaluation metric\n",
    "\tmetric = make_scorer(f2)\n",
    "\t# evaluate model\n",
    "\tscores = cross_val_score(model, X, y, scoring=metric, cv=cv, n_jobs=-1)\n",
    "\treturn scores\n",
    "\n",
    "# define the location of the dataset\n",
    "full_path = 'WA_Fn-UseC_-Telco-Customer-Churn.csv'\n",
    "# load the dataset\n",
    "X, y = load_dataset(full_path)\n",
    "# summarize the loaded dataset\n",
    "print(X.shape, y.shape, Counter(y))\n",
    "# define the reference model\n",
    "model = DummyClassifier(strategy='constant', constant=1)\n",
    "# evaluate the model\n",
    "scores = evaluate_model(X, y, model)\n",
    "# summarize performance\n",
    "print('Mean F2: %.3f (%.3f)' % (mean(scores), std(scores)))"
   ]
  },
  {
   "cell_type": "code",
   "execution_count": 2,
   "metadata": {},
   "outputs": [
    {
     "name": "stdout",
     "output_type": "stream",
     "text": [
      "(7044, 21)\n",
      "Class=Churn, Count=1, Percentage=0.014%\n",
      "Class=No, Count=5174, Percentage=73.453%\n",
      "Class=Yes, Count=1869, Percentage=26.533%\n"
     ]
    }
   ],
   "source": [
    "# load and summarize the dataset\n",
    "from pandas import read_csv\n",
    "from collections import Counter\n",
    "# define the dataset location\n",
    "filename = 'WA_Fn-UseC_-Telco-Customer-Churn.csv'\n",
    "# load the csv file as a data frame\n",
    "dataframe = read_csv(filename, header=None, na_values='?')\n",
    "# drop rows with missing\n",
    "dataframe = dataframe.dropna()\n",
    "# summarize the shape of the dataset\n",
    "print(dataframe.shape)\n",
    "# summarize the class distribution\n",
    "target = dataframe.values[:,-1]\n",
    "counter = Counter(target)\n",
    "for k,v in counter.items():\n",
    "\tper = v / len(target) * 100\n",
    "\tprint('Class=%s, Count=%d, Percentage=%.3f%%' % (k, v, per))"
   ]
  },
  {
   "cell_type": "code",
   "execution_count": 5,
   "metadata": {},
   "outputs": [
    {
     "name": "stdout",
     "output_type": "stream",
     "text": [
      "<class 'pandas.core.frame.DataFrame'>\n",
      "RangeIndex: 7044 entries, 0 to 7043\n",
      "Data columns (total 21 columns):\n",
      " #   Column  Non-Null Count  Dtype \n",
      "---  ------  --------------  ----- \n",
      " 0   0       7044 non-null   object\n",
      " 1   1       7044 non-null   object\n",
      " 2   2       7044 non-null   object\n",
      " 3   3       7044 non-null   object\n",
      " 4   4       7044 non-null   object\n",
      " 5   5       7044 non-null   object\n",
      " 6   6       7044 non-null   object\n",
      " 7   7       7044 non-null   object\n",
      " 8   8       7044 non-null   object\n",
      " 9   9       7044 non-null   object\n",
      " 10  10      7044 non-null   object\n",
      " 11  11      7044 non-null   object\n",
      " 12  12      7044 non-null   object\n",
      " 13  13      7044 non-null   object\n",
      " 14  14      7044 non-null   object\n",
      " 15  15      7044 non-null   object\n",
      " 16  16      7044 non-null   object\n",
      " 17  17      7044 non-null   object\n",
      " 18  18      7044 non-null   object\n",
      " 19  19      7044 non-null   object\n",
      " 20  20      7044 non-null   object\n",
      "dtypes: object(21)\n",
      "memory usage: 1.1+ MB\n"
     ]
    }
   ],
   "source": [
    "# create histograms of numeric input variables\n",
    "from pandas import read_csv\n",
    "from matplotlib import pyplot\n",
    "# define the dataset location\n",
    "filename = 'WA_Fn-UseC_-Telco-Customer-Churn.csv'\n",
    "# load the csv file as a data frame\n",
    "df = read_csv(filename, header=None, na_values='?')\n",
    "# drop rows with missing\n",
    "df = df.dropna()\n",
    "# select columns with numerical data types\n",
    "num_ix = df.select_dtypes(include=['int64', 'float64']).columns\n",
    "df.info()"
   ]
  }
 ],
 "metadata": {
  "kernelspec": {
   "display_name": "Python 3",
   "language": "python",
   "name": "python3"
  },
  "language_info": {
   "codemirror_mode": {
    "name": "ipython",
    "version": 3
   },
   "file_extension": ".py",
   "mimetype": "text/x-python",
   "name": "python",
   "nbconvert_exporter": "python",
   "pygments_lexer": "ipython3",
   "version": "3.9.6"
  }
 },
 "nbformat": 4,
 "nbformat_minor": 2
}
