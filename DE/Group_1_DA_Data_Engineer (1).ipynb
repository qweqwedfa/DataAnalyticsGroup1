{
  "nbformat": 4,
  "nbformat_minor": 0,
  "metadata": {
    "colab": {
      "provenance": []
    },
    "kernelspec": {
      "name": "python3",
      "display_name": "Python 3"
    },
    "language_info": {
      "name": "python"
    }
  },
  "cells": [
    {
      "cell_type": "code",
      "source": [
        "import pandas as pd\n",
        "\n",
        "overview = pd.read_csv(\"WA_Fn-UseC_-Telco-Customer-Churn.csv\")\n",
        "\n",
        "overview.info()"
      ],
      "metadata": {
        "colab": {
          "base_uri": "https://localhost:8080/"
        },
        "id": "aMgp2mvZKSzB",
        "outputId": "9a6e8c5d-1aa7-483c-a4ca-396039c70e0c"
      },
      "execution_count": 3,
      "outputs": [
        {
          "output_type": "stream",
          "name": "stdout",
          "text": [
            "<class 'pandas.core.frame.DataFrame'>\n",
            "RangeIndex: 7043 entries, 0 to 7042\n",
            "Data columns (total 21 columns):\n",
            " #   Column            Non-Null Count  Dtype  \n",
            "---  ------            --------------  -----  \n",
            " 0   customerID        7043 non-null   object \n",
            " 1   gender            7043 non-null   object \n",
            " 2   SeniorCitizen     7043 non-null   int64  \n",
            " 3   Partner           7043 non-null   object \n",
            " 4   Dependents        7043 non-null   object \n",
            " 5   tenure            7043 non-null   int64  \n",
            " 6   PhoneService      7043 non-null   object \n",
            " 7   MultipleLines     7043 non-null   object \n",
            " 8   InternetService   7043 non-null   object \n",
            " 9   OnlineSecurity    7043 non-null   object \n",
            " 10  OnlineBackup      7043 non-null   object \n",
            " 11  DeviceProtection  7043 non-null   object \n",
            " 12  TechSupport       7043 non-null   object \n",
            " 13  StreamingTV       7043 non-null   object \n",
            " 14  StreamingMovies   7043 non-null   object \n",
            " 15  Contract          7043 non-null   object \n",
            " 16  PaperlessBilling  7043 non-null   object \n",
            " 17  PaymentMethod     7043 non-null   object \n",
            " 18  MonthlyCharges    7043 non-null   float64\n",
            " 19  TotalCharges      7043 non-null   object \n",
            " 20  Churn             7043 non-null   object \n",
            "dtypes: float64(1), int64(2), object(18)\n",
            "memory usage: 1.1+ MB\n"
          ]
        }
      ]
    },
    {
      "cell_type": "code",
      "source": [
        "missing_total_charges_count = overview['TotalCharges'].str.count(' ').sum()\n",
        "print(missing_total_charges_count)"
      ],
      "metadata": {
        "colab": {
          "base_uri": "https://localhost:8080/"
        },
        "id": "8TAWzWlVjR0r",
        "outputId": "d1ab536d-bca3-4d61-9fee-30f3e8592edf"
      },
      "execution_count": 11,
      "outputs": [
        {
          "output_type": "stream",
          "name": "stdout",
          "text": [
            "11\n"
          ]
        }
      ]
    },
    {
      "cell_type": "code",
      "source": [
        "import pandas as pd"
      ],
      "metadata": {
        "id": "Pwr8FQWZPSym"
      },
      "execution_count": null,
      "outputs": []
    },
    {
      "cell_type": "code",
      "source": [
        "file_path = '/content/Group1_Telco_Churn.csv'\n",
        "telco_churn = pd.read_csv(file_path)\n",
        "\n",
        "auto_cut_out_methods = ['Mailed check', 'Electronic check']\n",
        "bill_auto_methods = ['Bank transfer (automatic)', 'Credit card (automatic)']\n",
        "\n",
        "telco_churn['Auto cut out'] = telco_churn['PaymentMethod'].apply(lambda x: 'Yes' if x in auto_cut_out_methods else 'No')\n",
        "telco_churn['Bill / Auto'] = telco_churn['PaymentMethod'].apply(lambda x: 'Yes' if x in bill_auto_methods else 'No')\n",
        "\n",
        "print(\"Data has been processed\")"
      ],
      "metadata": {
        "colab": {
          "base_uri": "https://localhost:8080/"
        },
        "id": "ewdW4wv4xZ-f",
        "outputId": "1cf4485e-cce5-4cfb-ae28-a6aa1cca6ff3"
      },
      "execution_count": null,
      "outputs": [
        {
          "output_type": "stream",
          "name": "stdout",
          "text": [
            "Data has been processed and saved to modify_payment_file.csv\n"
          ]
        }
      ]
    },
    {
      "cell_type": "code",
      "source": [
        "contract_mapping = {\n",
        "    'Two year': '24',\n",
        "    'One year': '12',\n",
        "    'Month-to-month': '1'\n",
        "}\n",
        "\n",
        "telco_churn['Contract Length'] = telco_churn['Contract'].map(contract_mapping)\n",
        "\n",
        "print(\"Data has been processed\")\n",
        "telco_churn.to_csv(\"Group1_Telco_Churn_Final.csv\", index=False)"
      ],
      "metadata": {
        "colab": {
          "base_uri": "https://localhost:8080/"
        },
        "id": "l6NrG0yDBI3g",
        "outputId": "6d8c017f-327c-405c-b523-d67103151f8d"
      },
      "execution_count": null,
      "outputs": [
        {
          "output_type": "stream",
          "name": "stdout",
          "text": [
            "Data has been processed\n"
          ]
        }
      ]
    },
    {
      "cell_type": "code",
      "source": [
        "file_path = '/content/Group1_Telco_Churn.csv'\n",
        "telco_churn = pd.read_csv(file_path)\n",
        "\n",
        "new_column_names = {\n",
        "    'Contract Length': 'contract_month',\n",
        "    'Bill / Auto': 'auto_bill',\n",
        "}\n",
        "\n",
        "telco_churn.rename(columns=new_column_names, inplace=True)"
      ],
      "metadata": {
        "id": "FdQ04BHiCSlW"
      },
      "execution_count": null,
      "outputs": []
    },
    {
      "cell_type": "code",
      "execution_count": null,
      "metadata": {
        "id": "moUpinJKpAJG"
      },
      "outputs": [],
      "source": [
        "def format_seniorCitizen(value):\n",
        "    return str(value).replace('0','No').replace('1','Yes')\n",
        "\n",
        "telco_churn['senior_yes'] = telco_churn['SeniorCitizen'].apply(format_seniorCitizen)"
      ]
    },
    {
      "cell_type": "code",
      "source": [
        "def format_multipleLines(string):\n",
        "    return str(string).replace('No phone service','No')\n",
        "\n",
        "telco_churn['multiple_lines'] = telco_churn['MultipleLines'].apply(format_multipleLines)"
      ],
      "metadata": {
        "id": "kRwxgkxMvvI5"
      },
      "execution_count": null,
      "outputs": []
    },
    {
      "cell_type": "code",
      "source": [
        "def format_onlineServices(string):\n",
        "    return str(string).replace('No internet service','No')\n",
        "\n",
        "telco_churn['online_security'] = telco_churn['OnlineSecurity'].apply(format_onlineServices)\n",
        "telco_churn['online_backup'] = telco_churn['OnlineBackup'].apply(format_onlineServices)\n",
        "telco_churn['device_protection'] = telco_churn['DeviceProtection'].apply(format_onlineServices)\n",
        "telco_churn['tech_support'] = telco_churn['TechSupport'].apply(format_onlineServices)\n",
        "telco_churn['streaming_tv'] = telco_churn['StreamingTV'].apply(format_onlineServices)\n",
        "telco_churn['streaming_movies'] = telco_churn['StreamingMovies'].apply(format_onlineServices)"
      ],
      "metadata": {
        "id": "c20i7CyuzUAl"
      },
      "execution_count": null,
      "outputs": []
    },
    {
      "cell_type": "code",
      "source": [
        "def format_PaymentMethod(string):\n",
        "    return str(string).replace(' (automatic)','')\n",
        "\n",
        "telco_churn['payment_method'] = telco_churn['PaymentMethod'].apply(format_PaymentMethod)"
      ],
      "metadata": {
        "id": "WprSZlbZCri5"
      },
      "execution_count": null,
      "outputs": []
    },
    {
      "cell_type": "code",
      "source": [
        "telco_churn['total_charges'] = pd.to_numeric(telco_churn['TotalCharges'].str.strip().replace('', '0'))"
      ],
      "metadata": {
        "id": "CpfaBKfNc6DJ"
      },
      "execution_count": null,
      "outputs": []
    },
    {
      "cell_type": "code",
      "source": [
        "telco_churn.to_csv(\"GROUP1_TELCO_CHURN_FINAL.csv\", index=False)"
      ],
      "metadata": {
        "id": "1GUku7A5MzLV"
      },
      "execution_count": null,
      "outputs": []
    },
    {
      "cell_type": "code",
      "source": [
        "df = pd.read_csv(\"/content/GROUP1_TELCO_CHURN_FINAL.csv\")\n",
        "\n",
        "df.info()"
      ],
      "metadata": {
        "colab": {
          "base_uri": "https://localhost:8080/"
        },
        "id": "3_UOLLHBnsVo",
        "outputId": "74ac7863-68f7-4237-8c5d-446352ba5170"
      },
      "execution_count": null,
      "outputs": [
        {
          "output_type": "stream",
          "name": "stdout",
          "text": [
            "<class 'pandas.core.frame.DataFrame'>\n",
            "RangeIndex: 7043 entries, 0 to 7042\n",
            "Data columns (total 33 columns):\n",
            " #   Column             Non-Null Count  Dtype  \n",
            "---  ------             --------------  -----  \n",
            " 0   customerID         7043 non-null   object \n",
            " 1   gender             7043 non-null   object \n",
            " 2   SeniorCitizen      7043 non-null   int64  \n",
            " 3   Partner            7043 non-null   object \n",
            " 4   Dependents         7043 non-null   object \n",
            " 5   tenure             7043 non-null   int64  \n",
            " 6   PhoneService       7043 non-null   object \n",
            " 7   MultipleLines      7043 non-null   object \n",
            " 8   InternetService    7043 non-null   object \n",
            " 9   OnlineSecurity     7043 non-null   object \n",
            " 10  OnlineBackup       7043 non-null   object \n",
            " 11  DeviceProtection   7043 non-null   object \n",
            " 12  TechSupport        7043 non-null   object \n",
            " 13  StreamingTV        7043 non-null   object \n",
            " 14  StreamingMovies    7043 non-null   object \n",
            " 15  Contract           7043 non-null   object \n",
            " 16  contract_month     7043 non-null   int64  \n",
            " 17  PaperlessBilling   7043 non-null   object \n",
            " 18  auto_bill          7043 non-null   object \n",
            " 19  PaymentMethod      7043 non-null   object \n",
            " 20  MonthlyCharges     7043 non-null   float64\n",
            " 21  TotalCharges       7043 non-null   object \n",
            " 22  Churn              7043 non-null   object \n",
            " 23  senior_yes         7043 non-null   object \n",
            " 24  multiple_lines     7043 non-null   object \n",
            " 25  online_security    7043 non-null   object \n",
            " 26  online_backup      7043 non-null   object \n",
            " 27  device_protection  7043 non-null   object \n",
            " 28  tech_support       7043 non-null   object \n",
            " 29  streaming_tv       7043 non-null   object \n",
            " 30  streaming_movies   7043 non-null   object \n",
            " 31  payment_method     7043 non-null   object \n",
            " 32  total_charges      7043 non-null   float64\n",
            "dtypes: float64(2), int64(3), object(28)\n",
            "memory usage: 1.8+ MB\n"
          ]
        }
      ]
    },
    {
      "cell_type": "code",
      "source": [
        "import pandas as pd\n",
        "\n",
        "df = pd.read_csv(\"GROUP1_TELCO_CHURN_FINAL.csv\")"
      ],
      "metadata": {
        "id": "5mzhywUM0HPb"
      },
      "execution_count": null,
      "outputs": []
    },
    {
      "cell_type": "code",
      "source": [
        "def format_YesNo(value):\n",
        "    if value == 'No':\n",
        "        return 0\n",
        "    else:\n",
        "        return 1\n",
        "\n",
        "df['Churn_1'] = df['Churn'].apply(format_YesNo)\n",
        "df['Partner_1'] = df['Partner'].apply(format_YesNo)\n",
        "df['Dependents_1'] = df['Dependents'].apply(format_YesNo)\n",
        "df['PhoneService_1'] = df['PhoneService'].apply(format_YesNo)\n",
        "df['CInternetService_1'] = df['InternetService'].apply(format_YesNo)\n",
        "df['PaperlessBilling_1'] = df['PaperlessBilling'].apply(format_YesNo)\n",
        "df['auto_bill_1'] = df['auto_bill'].apply(format_YesNo)\n",
        "df['multiple_lines_1'] = df['multiple_lines'].apply(format_YesNo)\n",
        "df['online_security_1'] = df['online_security'].apply(format_YesNo)\n",
        "df['online_backup_1'] = df['online_backup'].apply(format_YesNo)\n",
        "df['device_protection_1'] = df['device_protection'].apply(format_YesNo)\n",
        "df['tech_support_1'] = df['tech_support'].apply(format_YesNo)\n",
        "df['device_protection_1'] = df['device_protection'].apply(format_YesNo)\n",
        "df['streaming_tv_1'] = df['streaming_tv'].apply(format_YesNo)\n",
        "df['streaming_movies_1'] = df['streaming_movies'].apply(format_YesNo)"
      ],
      "metadata": {
        "id": "Qv4_X7MQyy1R"
      },
      "execution_count": null,
      "outputs": []
    },
    {
      "cell_type": "code",
      "source": [
        "def format_internetService(string):\n",
        "    if string == 'Fiber optic':\n",
        "        return 1\n",
        "    elif string == 'DSL':\n",
        "        return 2\n",
        "    else:\n",
        "        return 0\n",
        "\n",
        "df['InternetService_Type'] = df['InternetService'].apply(format_internetService)"
      ],
      "metadata": {
        "id": "hMa3jfRq2weM"
      },
      "execution_count": null,
      "outputs": []
    },
    {
      "cell_type": "code",
      "source": [
        "def format_payment_method(string):\n",
        "    if string == 'Bank transfer':\n",
        "        return 1\n",
        "    elif string == 'Credit card':\n",
        "        return 2\n",
        "    elif string == 'Electronic check':\n",
        "        return 3\n",
        "    else:\n",
        "        return 4\n",
        "\n",
        "df['payment_method_type'] = df['payment_method'].apply(format_payment_method)"
      ],
      "metadata": {
        "id": "Xe3_chKc3WIx"
      },
      "execution_count": null,
      "outputs": []
    },
    {
      "cell_type": "code",
      "source": [
        "def format_gender(gender):\n",
        "    if gender == 'Female':\n",
        "        return 1\n",
        "    else:\n",
        "        return 0\n",
        "\n",
        "df['gender_female_1'] = df['gender'].apply(format_gender)"
      ],
      "metadata": {
        "id": "maYacxqC4B2U"
      },
      "execution_count": null,
      "outputs": []
    },
    {
      "cell_type": "code",
      "source": [
        "df.drop(['Churn','Partner','Dependents','PhoneService','InternetService','PaperlessBilling','auto_bill','multiple_lines','online_security','online_backup','device_protection','tech_support','streaming_tv','streaming_movies','payment_method','gender'], axis=1, inplace=True)\n",
        "\n",
        "df.info()"
      ],
      "metadata": {
        "colab": {
          "base_uri": "https://localhost:8080/"
        },
        "id": "XiW9JYQB4t-1",
        "outputId": "e2198be9-6dbb-41d1-ee03-b629d5d88ede"
      },
      "execution_count": null,
      "outputs": [
        {
          "output_type": "stream",
          "name": "stdout",
          "text": [
            "<class 'pandas.core.frame.DataFrame'>\n",
            "RangeIndex: 7043 entries, 0 to 7042\n",
            "Data columns (total 34 columns):\n",
            " #   Column                Non-Null Count  Dtype  \n",
            "---  ------                --------------  -----  \n",
            " 0   customerID            7043 non-null   object \n",
            " 1   SeniorCitizen         7043 non-null   int64  \n",
            " 2   tenure                7043 non-null   int64  \n",
            " 3   MultipleLines         7043 non-null   object \n",
            " 4   OnlineSecurity        7043 non-null   object \n",
            " 5   OnlineBackup          7043 non-null   object \n",
            " 6   DeviceProtection      7043 non-null   object \n",
            " 7   TechSupport           7043 non-null   object \n",
            " 8   StreamingTV           7043 non-null   object \n",
            " 9   StreamingMovies       7043 non-null   object \n",
            " 10  Contract              7043 non-null   object \n",
            " 11  contract_month        7043 non-null   int64  \n",
            " 12  PaymentMethod         7043 non-null   object \n",
            " 13  MonthlyCharges        7043 non-null   float64\n",
            " 14  TotalCharges          7043 non-null   object \n",
            " 15  senior_yes            7043 non-null   object \n",
            " 16  total_charges         7043 non-null   float64\n",
            " 17  Churn_1               7043 non-null   int64  \n",
            " 18  Partner_1             7043 non-null   int64  \n",
            " 19  Dependents_1          7043 non-null   int64  \n",
            " 20  PhoneService_1        7043 non-null   int64  \n",
            " 21  CInternetService_1    7043 non-null   int64  \n",
            " 22  PaperlessBilling_1    7043 non-null   int64  \n",
            " 23  auto_bill_1           7043 non-null   int64  \n",
            " 24  multiple_lines_1      7043 non-null   int64  \n",
            " 25  online_security_1     7043 non-null   int64  \n",
            " 26  online_backup_1       7043 non-null   int64  \n",
            " 27  device_protection_1   7043 non-null   int64  \n",
            " 28  tech_support_1        7043 non-null   int64  \n",
            " 29  streaming_tv_1        7043 non-null   int64  \n",
            " 30  streaming_movies_1    7043 non-null   int64  \n",
            " 31  InternetService_Type  7043 non-null   int64  \n",
            " 32  payment_method_type   7043 non-null   int64  \n",
            " 33  gender_female_1       7043 non-null   int64  \n",
            "dtypes: float64(2), int64(20), object(12)\n",
            "memory usage: 1.8+ MB\n"
          ]
        }
      ]
    },
    {
      "cell_type": "code",
      "source": [
        "df.drop(['PaymentMethod','TotalCharges','senior_yes','MultipleLines','OnlineSecurity','OnlineBackup','DeviceProtection','TechSupport','StreamingTV','StreamingMovies','Contract','PaymentMethod'], axis=1, inplace=True)\n",
        "\n",
        "df.info()"
      ],
      "metadata": {
        "id": "y78ZFOdU5bvI",
        "collapsed": true
      },
      "execution_count": null,
      "outputs": []
    },
    {
      "cell_type": "code",
      "source": [
        "df.to_csv(\"GROUP1_TELCO_CHURN_FINAL_Ver2.csv\", index=False)"
      ],
      "metadata": {
        "id": "IBOUMeFP6XVG"
      },
      "execution_count": null,
      "outputs": []
    },
    {
      "cell_type": "code",
      "source": [
        "import pandas as pd\n",
        "\n",
        "df1 = pd.read_csv(\"GROUP1_TELCO_CHURN_FINAL.csv\")"
      ],
      "metadata": {
        "id": "YMHMlou0_cb6"
      },
      "execution_count": null,
      "outputs": []
    },
    {
      "cell_type": "code",
      "source": [
        "df1.info()"
      ],
      "metadata": {
        "colab": {
          "base_uri": "https://localhost:8080/"
        },
        "id": "3FrAOO-h_sA8",
        "outputId": "48dd04c3-6cee-46d5-e18b-ada999160b05"
      },
      "execution_count": null,
      "outputs": [
        {
          "output_type": "stream",
          "name": "stdout",
          "text": [
            "<class 'pandas.core.frame.DataFrame'>\n",
            "RangeIndex: 7043 entries, 0 to 7042\n",
            "Data columns (total 33 columns):\n",
            " #   Column             Non-Null Count  Dtype  \n",
            "---  ------             --------------  -----  \n",
            " 0   customerID         7043 non-null   object \n",
            " 1   gender             7043 non-null   object \n",
            " 2   SeniorCitizen      7043 non-null   int64  \n",
            " 3   Partner            7043 non-null   object \n",
            " 4   Dependents         7043 non-null   object \n",
            " 5   tenure             7043 non-null   int64  \n",
            " 6   PhoneService       7043 non-null   object \n",
            " 7   MultipleLines      7043 non-null   object \n",
            " 8   InternetService    7043 non-null   object \n",
            " 9   OnlineSecurity     7043 non-null   object \n",
            " 10  OnlineBackup       7043 non-null   object \n",
            " 11  DeviceProtection   7043 non-null   object \n",
            " 12  TechSupport        7043 non-null   object \n",
            " 13  StreamingTV        7043 non-null   object \n",
            " 14  StreamingMovies    7043 non-null   object \n",
            " 15  Contract           7043 non-null   object \n",
            " 16  contract_month     7043 non-null   int64  \n",
            " 17  PaperlessBilling   7043 non-null   object \n",
            " 18  auto_bill          7043 non-null   object \n",
            " 19  PaymentMethod      7043 non-null   object \n",
            " 20  MonthlyCharges     7043 non-null   float64\n",
            " 21  TotalCharges       7043 non-null   object \n",
            " 22  Churn              7043 non-null   object \n",
            " 23  senior_yes         7043 non-null   object \n",
            " 24  multiple_lines     7043 non-null   object \n",
            " 25  online_security    7043 non-null   object \n",
            " 26  online_backup      7043 non-null   object \n",
            " 27  device_protection  7043 non-null   object \n",
            " 28  tech_support       7043 non-null   object \n",
            " 29  streaming_tv       7043 non-null   object \n",
            " 30  streaming_movies   7043 non-null   object \n",
            " 31  payment_method     7043 non-null   object \n",
            " 32  total_charges      7043 non-null   float64\n",
            "dtypes: float64(2), int64(3), object(28)\n",
            "memory usage: 1.8+ MB\n"
          ]
        }
      ]
    },
    {
      "cell_type": "code",
      "source": [
        "df1['Churn'].replace(to_replace='Yes', value=1, inplace=True)\n",
        "df1['Churn'].replace(to_replace='No',  value=0, inplace=True)\n",
        "\n",
        "df1.drop(['customerID','SeniorCitizen','MultipleLines','OnlineSecurity','OnlineBackup','DeviceProtection','TechSupport','StreamingTV','StreamingMovies','Contract','PaymentMethod','TotalCharges'], axis = 1, inplace = True)"
      ],
      "metadata": {
        "colab": {
          "base_uri": "https://localhost:8080/"
        },
        "id": "5CZz-Ntm_y2t",
        "outputId": "bb54c1da-7f0d-4ceb-9702-d212cd9b6579"
      },
      "execution_count": null,
      "outputs": [
        {
          "output_type": "stream",
          "name": "stderr",
          "text": [
            "<ipython-input-36-c1a3db6ad4bb>:1: FutureWarning: A value is trying to be set on a copy of a DataFrame or Series through chained assignment using an inplace method.\n",
            "The behavior will change in pandas 3.0. This inplace method will never work because the intermediate object on which we are setting values always behaves as a copy.\n",
            "\n",
            "For example, when doing 'df[col].method(value, inplace=True)', try using 'df.method({col: value}, inplace=True)' or df[col] = df[col].method(value) instead, to perform the operation inplace on the original object.\n",
            "\n",
            "\n",
            "  df1['Churn'].replace(to_replace='Yes', value=1, inplace=True)\n",
            "<ipython-input-36-c1a3db6ad4bb>:2: FutureWarning: A value is trying to be set on a copy of a DataFrame or Series through chained assignment using an inplace method.\n",
            "The behavior will change in pandas 3.0. This inplace method will never work because the intermediate object on which we are setting values always behaves as a copy.\n",
            "\n",
            "For example, when doing 'df[col].method(value, inplace=True)', try using 'df.method({col: value}, inplace=True)' or df[col] = df[col].method(value) instead, to perform the operation inplace on the original object.\n",
            "\n",
            "\n",
            "  df1['Churn'].replace(to_replace='No',  value=0, inplace=True)\n",
            "<ipython-input-36-c1a3db6ad4bb>:2: FutureWarning: Downcasting behavior in `replace` is deprecated and will be removed in a future version. To retain the old behavior, explicitly call `result.infer_objects(copy=False)`. To opt-in to the future behavior, set `pd.set_option('future.no_silent_downcasting', True)`\n",
            "  df1['Churn'].replace(to_replace='No',  value=0, inplace=True)\n"
          ]
        }
      ]
    },
    {
      "cell_type": "code",
      "source": [
        "df1.head()\n",
        "df1.info()"
      ],
      "metadata": {
        "colab": {
          "base_uri": "https://localhost:8080/"
        },
        "id": "rNW5jYWqCW9s",
        "outputId": "9fc5e290-ccb7-4459-9d91-547f42c31ba4"
      },
      "execution_count": null,
      "outputs": [
        {
          "output_type": "stream",
          "name": "stdout",
          "text": [
            "<class 'pandas.core.frame.DataFrame'>\n",
            "RangeIndex: 7043 entries, 0 to 7042\n",
            "Data columns (total 21 columns):\n",
            " #   Column             Non-Null Count  Dtype  \n",
            "---  ------             --------------  -----  \n",
            " 0   gender             7043 non-null   object \n",
            " 1   Partner            7043 non-null   object \n",
            " 2   Dependents         7043 non-null   object \n",
            " 3   tenure             7043 non-null   int64  \n",
            " 4   PhoneService       7043 non-null   object \n",
            " 5   InternetService    7043 non-null   object \n",
            " 6   contract_month     7043 non-null   int64  \n",
            " 7   PaperlessBilling   7043 non-null   object \n",
            " 8   auto_bill          7043 non-null   object \n",
            " 9   MonthlyCharges     7043 non-null   float64\n",
            " 10  Churn              7043 non-null   int64  \n",
            " 11  senior_yes         7043 non-null   object \n",
            " 12  multiple_lines     7043 non-null   object \n",
            " 13  online_security    7043 non-null   object \n",
            " 14  online_backup      7043 non-null   object \n",
            " 15  device_protection  7043 non-null   object \n",
            " 16  tech_support       7043 non-null   object \n",
            " 17  streaming_tv       7043 non-null   object \n",
            " 18  streaming_movies   7043 non-null   object \n",
            " 19  payment_method     7043 non-null   object \n",
            " 20  total_charges      7043 non-null   float64\n",
            "dtypes: float64(2), int64(3), object(16)\n",
            "memory usage: 1.1+ MB\n"
          ]
        }
      ]
    },
    {
      "cell_type": "code",
      "source": [
        "df2_dummies = [i for i in df1.columns if i not in ['Churn', 'tenure', 'MonthlyCharges', 'contract_month','total_charges','InternetService','payment_method','gender']]\n",
        "df2 = pd.get_dummies(df1, columns=df2_dummies, drop_first=True)\n",
        "\n",
        "df2.info()"
      ],
      "metadata": {
        "colab": {
          "base_uri": "https://localhost:8080/"
        },
        "id": "qDmNQ2g1AHWE",
        "outputId": "ca785c1e-c1d6-4c89-a72d-3c9aa9e78168"
      },
      "execution_count": null,
      "outputs": [
        {
          "output_type": "stream",
          "name": "stdout",
          "text": [
            "<class 'pandas.core.frame.DataFrame'>\n",
            "RangeIndex: 7043 entries, 0 to 7042\n",
            "Data columns (total 21 columns):\n",
            " #   Column                 Non-Null Count  Dtype  \n",
            "---  ------                 --------------  -----  \n",
            " 0   gender                 7043 non-null   object \n",
            " 1   tenure                 7043 non-null   int64  \n",
            " 2   InternetService        7043 non-null   object \n",
            " 3   contract_month         7043 non-null   int64  \n",
            " 4   MonthlyCharges         7043 non-null   float64\n",
            " 5   Churn                  7043 non-null   int64  \n",
            " 6   payment_method         7043 non-null   object \n",
            " 7   total_charges          7043 non-null   float64\n",
            " 8   Partner_Yes            7043 non-null   bool   \n",
            " 9   Dependents_Yes         7043 non-null   bool   \n",
            " 10  PhoneService_Yes       7043 non-null   bool   \n",
            " 11  PaperlessBilling_Yes   7043 non-null   bool   \n",
            " 12  auto_bill_Yes          7043 non-null   bool   \n",
            " 13  senior_yes_Yes         7043 non-null   bool   \n",
            " 14  multiple_lines_Yes     7043 non-null   bool   \n",
            " 15  online_security_Yes    7043 non-null   bool   \n",
            " 16  online_backup_Yes      7043 non-null   bool   \n",
            " 17  device_protection_Yes  7043 non-null   bool   \n",
            " 18  tech_support_Yes       7043 non-null   bool   \n",
            " 19  streaming_tv_Yes       7043 non-null   bool   \n",
            " 20  streaming_movies_Yes   7043 non-null   bool   \n",
            "dtypes: bool(13), float64(2), int64(3), object(3)\n",
            "memory usage: 529.7+ KB\n"
          ]
        }
      ]
    },
    {
      "cell_type": "code",
      "source": [],
      "metadata": {
        "id": "qpi7HajRJm81"
      },
      "execution_count": null,
      "outputs": []
    },
    {
      "cell_type": "code",
      "source": [
        "df3_dummies = [i for i in df2.columns if i in ['gender','InternetService','payment_method']]\n",
        "df3 = pd.get_dummies(df2, columns=df3_dummies, drop_first=False)\n",
        "\n",
        "df3.info()"
      ],
      "metadata": {
        "colab": {
          "base_uri": "https://localhost:8080/"
        },
        "id": "ZVO_flzKr8yV",
        "outputId": "ef5c130e-93e9-42d3-9209-610538de977c"
      },
      "execution_count": null,
      "outputs": [
        {
          "output_type": "stream",
          "name": "stdout",
          "text": [
            "<class 'pandas.core.frame.DataFrame'>\n",
            "RangeIndex: 7043 entries, 0 to 7042\n",
            "Data columns (total 27 columns):\n",
            " #   Column                           Non-Null Count  Dtype  \n",
            "---  ------                           --------------  -----  \n",
            " 0   tenure                           7043 non-null   int64  \n",
            " 1   contract_month                   7043 non-null   int64  \n",
            " 2   MonthlyCharges                   7043 non-null   float64\n",
            " 3   Churn                            7043 non-null   int64  \n",
            " 4   total_charges                    7043 non-null   float64\n",
            " 5   Partner_Yes                      7043 non-null   bool   \n",
            " 6   Dependents_Yes                   7043 non-null   bool   \n",
            " 7   PhoneService_Yes                 7043 non-null   bool   \n",
            " 8   PaperlessBilling_Yes             7043 non-null   bool   \n",
            " 9   auto_bill_Yes                    7043 non-null   bool   \n",
            " 10  senior_yes_Yes                   7043 non-null   bool   \n",
            " 11  multiple_lines_Yes               7043 non-null   bool   \n",
            " 12  online_security_Yes              7043 non-null   bool   \n",
            " 13  online_backup_Yes                7043 non-null   bool   \n",
            " 14  device_protection_Yes            7043 non-null   bool   \n",
            " 15  tech_support_Yes                 7043 non-null   bool   \n",
            " 16  streaming_tv_Yes                 7043 non-null   bool   \n",
            " 17  streaming_movies_Yes             7043 non-null   bool   \n",
            " 18  gender_Female                    7043 non-null   bool   \n",
            " 19  gender_Male                      7043 non-null   bool   \n",
            " 20  InternetService_DSL              7043 non-null   bool   \n",
            " 21  InternetService_Fiber optic      7043 non-null   bool   \n",
            " 22  InternetService_No               7043 non-null   bool   \n",
            " 23  payment_method_Bank transfer     7043 non-null   bool   \n",
            " 24  payment_method_Credit card       7043 non-null   bool   \n",
            " 25  payment_method_Electronic check  7043 non-null   bool   \n",
            " 26  payment_method_Mailed check      7043 non-null   bool   \n",
            "dtypes: bool(22), float64(2), int64(3)\n",
            "memory usage: 426.6 KB\n"
          ]
        }
      ]
    },
    {
      "cell_type": "code",
      "source": [
        "df4 = df3.astype(int)\n",
        "\n",
        "df4.info()"
      ],
      "metadata": {
        "colab": {
          "base_uri": "https://localhost:8080/"
        },
        "id": "bVI5t2vJluXz",
        "outputId": "66a59217-42ee-4b56-b4be-c5bf75d731ff"
      },
      "execution_count": null,
      "outputs": [
        {
          "output_type": "stream",
          "name": "stdout",
          "text": [
            "<class 'pandas.core.frame.DataFrame'>\n",
            "RangeIndex: 7043 entries, 0 to 7042\n",
            "Data columns (total 27 columns):\n",
            " #   Column                           Non-Null Count  Dtype\n",
            "---  ------                           --------------  -----\n",
            " 0   tenure                           7043 non-null   int64\n",
            " 1   contract_month                   7043 non-null   int64\n",
            " 2   MonthlyCharges                   7043 non-null   int64\n",
            " 3   Churn                            7043 non-null   int64\n",
            " 4   total_charges                    7043 non-null   int64\n",
            " 5   Partner_Yes                      7043 non-null   int64\n",
            " 6   Dependents_Yes                   7043 non-null   int64\n",
            " 7   PhoneService_Yes                 7043 non-null   int64\n",
            " 8   PaperlessBilling_Yes             7043 non-null   int64\n",
            " 9   auto_bill_Yes                    7043 non-null   int64\n",
            " 10  senior_yes_Yes                   7043 non-null   int64\n",
            " 11  multiple_lines_Yes               7043 non-null   int64\n",
            " 12  online_security_Yes              7043 non-null   int64\n",
            " 13  online_backup_Yes                7043 non-null   int64\n",
            " 14  device_protection_Yes            7043 non-null   int64\n",
            " 15  tech_support_Yes                 7043 non-null   int64\n",
            " 16  streaming_tv_Yes                 7043 non-null   int64\n",
            " 17  streaming_movies_Yes             7043 non-null   int64\n",
            " 18  gender_Female                    7043 non-null   int64\n",
            " 19  gender_Male                      7043 non-null   int64\n",
            " 20  InternetService_DSL              7043 non-null   int64\n",
            " 21  InternetService_Fiber optic      7043 non-null   int64\n",
            " 22  InternetService_No               7043 non-null   int64\n",
            " 23  payment_method_Bank transfer     7043 non-null   int64\n",
            " 24  payment_method_Credit card       7043 non-null   int64\n",
            " 25  payment_method_Electronic check  7043 non-null   int64\n",
            " 26  payment_method_Mailed check      7043 non-null   int64\n",
            "dtypes: int64(27)\n",
            "memory usage: 1.5 MB\n"
          ]
        }
      ]
    },
    {
      "cell_type": "code",
      "source": [
        "df3.to_csv(\"GROUP1_TELCO_CHURN_dummies_format_0-1.csv\", index=False)\n",
        "df4.to_csv(\"GROUP1_TELCO_CHURN_dummies_format_bool.csv\", index=False)"
      ],
      "metadata": {
        "id": "22DrIlZamb49"
      },
      "execution_count": null,
      "outputs": []
    },
    {
      "cell_type": "code",
      "source": [
        "import pandas as pd\n",
        "\n",
        "df01 = pd.read_csv(\"GROUP1_TELCO_CHURN_dummies_format_bool.csv\")\n",
        "\n",
        "bool_columns = ['Partner_Yes', 'Dependents_Yes', 'PhoneService_Yes', 'PaperlessBilling_Yes',\n",
        "                'auto_bill_Yes', 'senior_yes_Yes', 'multiple_lines_Yes', 'online_security_Yes',\n",
        "                'online_backup_Yes', 'device_protection_Yes', 'tech_support_Yes', 'streaming_tv_Yes',\n",
        "                'streaming_movies_Yes', 'gender_Female', 'gender_Male', 'InternetService_DSL','InternetService_Fiber optic',\n",
        "                'InternetService_No', 'payment_method_Bank transfer', 'payment_method_Credit card',\n",
        "                'payment_method_Electronic check', 'payment_method_Mailed check']\n",
        "\n",
        "for col in bool_columns:\n",
        "    df01[col] = df01[col].astype(int)\n",
        "\n",
        "df01.info()"
      ],
      "metadata": {
        "colab": {
          "base_uri": "https://localhost:8080/"
        },
        "id": "q8he0WcX00rz",
        "outputId": "57a24131-3b00-4a8c-e4ee-c596250d8107"
      },
      "execution_count": null,
      "outputs": [
        {
          "output_type": "stream",
          "name": "stdout",
          "text": [
            "<class 'pandas.core.frame.DataFrame'>\n",
            "RangeIndex: 7043 entries, 0 to 7042\n",
            "Data columns (total 27 columns):\n",
            " #   Column                           Non-Null Count  Dtype  \n",
            "---  ------                           --------------  -----  \n",
            " 0   tenure                           7043 non-null   int64  \n",
            " 1   contract_month                   7043 non-null   int64  \n",
            " 2   MonthlyCharges                   7043 non-null   float64\n",
            " 3   Churn                            7043 non-null   int64  \n",
            " 4   total_charges                    7043 non-null   float64\n",
            " 5   Partner_Yes                      7043 non-null   int64  \n",
            " 6   Dependents_Yes                   7043 non-null   int64  \n",
            " 7   PhoneService_Yes                 7043 non-null   int64  \n",
            " 8   PaperlessBilling_Yes             7043 non-null   int64  \n",
            " 9   auto_bill_Yes                    7043 non-null   int64  \n",
            " 10  senior_yes_Yes                   7043 non-null   int64  \n",
            " 11  multiple_lines_Yes               7043 non-null   int64  \n",
            " 12  online_security_Yes              7043 non-null   int64  \n",
            " 13  online_backup_Yes                7043 non-null   int64  \n",
            " 14  device_protection_Yes            7043 non-null   int64  \n",
            " 15  tech_support_Yes                 7043 non-null   int64  \n",
            " 16  streaming_tv_Yes                 7043 non-null   int64  \n",
            " 17  streaming_movies_Yes             7043 non-null   int64  \n",
            " 18  gender_Female                    7043 non-null   int64  \n",
            " 19  gender_Male                      7043 non-null   int64  \n",
            " 20  InternetService_DSL              7043 non-null   int64  \n",
            " 21  InternetService_Fiber optic      7043 non-null   int64  \n",
            " 22  InternetService_No               7043 non-null   int64  \n",
            " 23  payment_method_Bank transfer     7043 non-null   int64  \n",
            " 24  payment_method_Credit card       7043 non-null   int64  \n",
            " 25  payment_method_Electronic check  7043 non-null   int64  \n",
            " 26  payment_method_Mailed check      7043 non-null   int64  \n",
            "dtypes: float64(2), int64(25)\n",
            "memory usage: 1.5 MB\n"
          ]
        }
      ]
    },
    {
      "cell_type": "code",
      "source": [
        "df_bool = pd.read_csv(\"GROUP1_TELCO_CHURN_dummies_format_bool.csv\")\n",
        "\n",
        "df01_Rename = {'senior_yes_Yes': 'senior_Yes',}\n",
        "\n",
        "df01.rename(columns=df01_Rename, inplace=True)\n",
        "df_bool.rename(columns=df01_Rename, inplace=True)\n",
        "\n",
        "df01.info()"
      ],
      "metadata": {
        "colab": {
          "base_uri": "https://localhost:8080/"
        },
        "id": "H6XWlx8M4J8f",
        "outputId": "181ea237-2850-46b3-dd31-cb3082b1528e"
      },
      "execution_count": null,
      "outputs": [
        {
          "output_type": "stream",
          "name": "stdout",
          "text": [
            "<class 'pandas.core.frame.DataFrame'>\n",
            "RangeIndex: 7043 entries, 0 to 7042\n",
            "Data columns (total 27 columns):\n",
            " #   Column                           Non-Null Count  Dtype  \n",
            "---  ------                           --------------  -----  \n",
            " 0   tenure                           7043 non-null   int64  \n",
            " 1   contract_month                   7043 non-null   int64  \n",
            " 2   MonthlyCharges                   7043 non-null   float64\n",
            " 3   Churn                            7043 non-null   int64  \n",
            " 4   total_charges                    7043 non-null   float64\n",
            " 5   Partner_Yes                      7043 non-null   int64  \n",
            " 6   Dependents_Yes                   7043 non-null   int64  \n",
            " 7   PhoneService_Yes                 7043 non-null   int64  \n",
            " 8   PaperlessBilling_Yes             7043 non-null   int64  \n",
            " 9   auto_bill_Yes                    7043 non-null   int64  \n",
            " 10  senior_Yes                       7043 non-null   int64  \n",
            " 11  multiple_lines_Yes               7043 non-null   int64  \n",
            " 12  online_security_Yes              7043 non-null   int64  \n",
            " 13  online_backup_Yes                7043 non-null   int64  \n",
            " 14  device_protection_Yes            7043 non-null   int64  \n",
            " 15  tech_support_Yes                 7043 non-null   int64  \n",
            " 16  streaming_tv_Yes                 7043 non-null   int64  \n",
            " 17  streaming_movies_Yes             7043 non-null   int64  \n",
            " 18  gender_Female                    7043 non-null   int64  \n",
            " 19  gender_Male                      7043 non-null   int64  \n",
            " 20  InternetService_DSL              7043 non-null   int64  \n",
            " 21  InternetService_Fiber optic      7043 non-null   int64  \n",
            " 22  InternetService_No               7043 non-null   int64  \n",
            " 23  payment_method_Bank transfer     7043 non-null   int64  \n",
            " 24  payment_method_Credit card       7043 non-null   int64  \n",
            " 25  payment_method_Electronic check  7043 non-null   int64  \n",
            " 26  payment_method_Mailed check      7043 non-null   int64  \n",
            "dtypes: float64(2), int64(25)\n",
            "memory usage: 1.5 MB\n"
          ]
        }
      ]
    },
    {
      "cell_type": "code",
      "source": [
        "df01.to_csv(\"GROUP1_TELCO_CHURN_dummies_format_0-1.csv\", index=False)\n",
        "df_bool.to_csv(\"GROUP1_TELCO_CHURN_dummies_format_bool.csv\", index=False)"
      ],
      "metadata": {
        "id": "-43oq7oY4sQQ"
      },
      "execution_count": null,
      "outputs": []
    },
    {
      "cell_type": "code",
      "source": [
        "df_bool.info()"
      ],
      "metadata": {
        "id": "Pl2JLPeP57rj",
        "outputId": "ebd84374-6ade-4fa7-a8df-22fcb5a39559",
        "colab": {
          "base_uri": "https://localhost:8080/"
        }
      },
      "execution_count": null,
      "outputs": [
        {
          "output_type": "stream",
          "name": "stdout",
          "text": [
            "<class 'pandas.core.frame.DataFrame'>\n",
            "RangeIndex: 7043 entries, 0 to 7042\n",
            "Data columns (total 27 columns):\n",
            " #   Column                           Non-Null Count  Dtype  \n",
            "---  ------                           --------------  -----  \n",
            " 0   tenure                           7043 non-null   int64  \n",
            " 1   contract_month                   7043 non-null   int64  \n",
            " 2   MonthlyCharges                   7043 non-null   float64\n",
            " 3   Churn                            7043 non-null   int64  \n",
            " 4   total_charges                    7043 non-null   float64\n",
            " 5   Partner_Yes                      7043 non-null   bool   \n",
            " 6   Dependents_Yes                   7043 non-null   bool   \n",
            " 7   PhoneService_Yes                 7043 non-null   bool   \n",
            " 8   PaperlessBilling_Yes             7043 non-null   bool   \n",
            " 9   auto_bill_Yes                    7043 non-null   bool   \n",
            " 10  senior_Yes                       7043 non-null   bool   \n",
            " 11  multiple_lines_Yes               7043 non-null   bool   \n",
            " 12  online_security_Yes              7043 non-null   bool   \n",
            " 13  online_backup_Yes                7043 non-null   bool   \n",
            " 14  device_protection_Yes            7043 non-null   bool   \n",
            " 15  tech_support_Yes                 7043 non-null   bool   \n",
            " 16  streaming_tv_Yes                 7043 non-null   bool   \n",
            " 17  streaming_movies_Yes             7043 non-null   bool   \n",
            " 18  gender_Female                    7043 non-null   bool   \n",
            " 19  gender_Male                      7043 non-null   bool   \n",
            " 20  InternetService_DSL              7043 non-null   bool   \n",
            " 21  InternetService_Fiber optic      7043 non-null   bool   \n",
            " 22  InternetService_No               7043 non-null   bool   \n",
            " 23  payment_method_Bank transfer     7043 non-null   bool   \n",
            " 24  payment_method_Credit card       7043 non-null   bool   \n",
            " 25  payment_method_Electronic check  7043 non-null   bool   \n",
            " 26  payment_method_Mailed check      7043 non-null   bool   \n",
            "dtypes: bool(22), float64(2), int64(3)\n",
            "memory usage: 426.6 KB\n"
          ]
        }
      ]
    },
    {
      "cell_type": "code",
      "source": [
        "import pandas as pd\n",
        "\n",
        "df_for_cor = pd.read_csv(\"GROUP1_TELCO_CHURN_FINAL.csv\")\n",
        "\n",
        "df_for_cor.info()"
      ],
      "metadata": {
        "colab": {
          "base_uri": "https://localhost:8080/"
        },
        "id": "29wRd3bgGvQF",
        "outputId": "7b101f9c-4dab-4589-de02-1a5723e10c8a"
      },
      "execution_count": null,
      "outputs": [
        {
          "output_type": "stream",
          "name": "stdout",
          "text": [
            "<class 'pandas.core.frame.DataFrame'>\n",
            "RangeIndex: 7043 entries, 0 to 7042\n",
            "Data columns (total 33 columns):\n",
            " #   Column             Non-Null Count  Dtype  \n",
            "---  ------             --------------  -----  \n",
            " 0   customerID         7043 non-null   object \n",
            " 1   gender             7043 non-null   object \n",
            " 2   SeniorCitizen      7043 non-null   int64  \n",
            " 3   Partner            7043 non-null   object \n",
            " 4   Dependents         7043 non-null   object \n",
            " 5   tenure             7043 non-null   int64  \n",
            " 6   PhoneService       7043 non-null   object \n",
            " 7   MultipleLines      7043 non-null   object \n",
            " 8   InternetService    7043 non-null   object \n",
            " 9   OnlineSecurity     7043 non-null   object \n",
            " 10  OnlineBackup       7043 non-null   object \n",
            " 11  DeviceProtection   7043 non-null   object \n",
            " 12  TechSupport        7043 non-null   object \n",
            " 13  StreamingTV        7043 non-null   object \n",
            " 14  StreamingMovies    7043 non-null   object \n",
            " 15  Contract           7043 non-null   object \n",
            " 16  contract_month     7043 non-null   int64  \n",
            " 17  PaperlessBilling   7043 non-null   object \n",
            " 18  auto_bill          7043 non-null   object \n",
            " 19  PaymentMethod      7043 non-null   object \n",
            " 20  MonthlyCharges     7043 non-null   float64\n",
            " 21  TotalCharges       7043 non-null   object \n",
            " 22  Churn              7043 non-null   object \n",
            " 23  senior_yes         7043 non-null   object \n",
            " 24  multiple_lines     7043 non-null   object \n",
            " 25  online_security    7043 non-null   object \n",
            " 26  online_backup      7043 non-null   object \n",
            " 27  device_protection  7043 non-null   object \n",
            " 28  tech_support       7043 non-null   object \n",
            " 29  streaming_tv       7043 non-null   object \n",
            " 30  streaming_movies   7043 non-null   object \n",
            " 31  payment_method     7043 non-null   object \n",
            " 32  total_charges      7043 non-null   float64\n",
            "dtypes: float64(2), int64(3), object(28)\n",
            "memory usage: 1.8+ MB\n"
          ]
        }
      ]
    },
    {
      "cell_type": "code",
      "source": [
        "df_for_cor['Churn'].replace(to_replace='Yes', value=1, inplace=True)\n",
        "df_for_cor['Churn'].replace(to_replace='No',  value=0, inplace=True)\n",
        "\n",
        "\n",
        "df_for_cor.drop(['customerID','SeniorCitizen','multiple_lines','online_security','online_backup','OnlineBackup','device_protection','tech_support','streaming_tv','streaming_movies','contract_month','PaymentMethod','TotalCharges'], axis = 1, inplace = True)\n",
        "\n",
        "df_for_cor.info()"
      ],
      "metadata": {
        "colab": {
          "base_uri": "https://localhost:8080/"
        },
        "id": "jyMcPEhVHQTt",
        "outputId": "335e1d0f-0fd2-4bdb-b6b4-afbb1d7a914e"
      },
      "execution_count": null,
      "outputs": [
        {
          "output_type": "stream",
          "name": "stdout",
          "text": [
            "<class 'pandas.core.frame.DataFrame'>\n",
            "RangeIndex: 7043 entries, 0 to 7042\n",
            "Data columns (total 20 columns):\n",
            " #   Column            Non-Null Count  Dtype  \n",
            "---  ------            --------------  -----  \n",
            " 0   gender            7043 non-null   object \n",
            " 1   Partner           7043 non-null   object \n",
            " 2   Dependents        7043 non-null   object \n",
            " 3   tenure            7043 non-null   int64  \n",
            " 4   PhoneService      7043 non-null   object \n",
            " 5   MultipleLines     7043 non-null   object \n",
            " 6   InternetService   7043 non-null   object \n",
            " 7   OnlineSecurity    7043 non-null   object \n",
            " 8   DeviceProtection  7043 non-null   object \n",
            " 9   TechSupport       7043 non-null   object \n",
            " 10  StreamingTV       7043 non-null   object \n",
            " 11  StreamingMovies   7043 non-null   object \n",
            " 12  Contract          7043 non-null   object \n",
            " 13  PaperlessBilling  7043 non-null   object \n",
            " 14  auto_bill         7043 non-null   object \n",
            " 15  MonthlyCharges    7043 non-null   float64\n",
            " 16  Churn             7043 non-null   int64  \n",
            " 17  senior_yes        7043 non-null   object \n",
            " 18  payment_method    7043 non-null   object \n",
            " 19  total_charges     7043 non-null   float64\n",
            "dtypes: float64(2), int64(2), object(16)\n",
            "memory usage: 1.1+ MB\n"
          ]
        },
        {
          "output_type": "stream",
          "name": "stderr",
          "text": [
            "<ipython-input-5-a37b9075a0dc>:1: FutureWarning: A value is trying to be set on a copy of a DataFrame or Series through chained assignment using an inplace method.\n",
            "The behavior will change in pandas 3.0. This inplace method will never work because the intermediate object on which we are setting values always behaves as a copy.\n",
            "\n",
            "For example, when doing 'df[col].method(value, inplace=True)', try using 'df.method({col: value}, inplace=True)' or df[col] = df[col].method(value) instead, to perform the operation inplace on the original object.\n",
            "\n",
            "\n",
            "  df_for_cor['Churn'].replace(to_replace='Yes', value=1, inplace=True)\n",
            "<ipython-input-5-a37b9075a0dc>:2: FutureWarning: A value is trying to be set on a copy of a DataFrame or Series through chained assignment using an inplace method.\n",
            "The behavior will change in pandas 3.0. This inplace method will never work because the intermediate object on which we are setting values always behaves as a copy.\n",
            "\n",
            "For example, when doing 'df[col].method(value, inplace=True)', try using 'df.method({col: value}, inplace=True)' or df[col] = df[col].method(value) instead, to perform the operation inplace on the original object.\n",
            "\n",
            "\n",
            "  df_for_cor['Churn'].replace(to_replace='No',  value=0, inplace=True)\n",
            "<ipython-input-5-a37b9075a0dc>:2: FutureWarning: Downcasting behavior in `replace` is deprecated and will be removed in a future version. To retain the old behavior, explicitly call `result.infer_objects(copy=False)`. To opt-in to the future behavior, set `pd.set_option('future.no_silent_downcasting', True)`\n",
            "  df_for_cor['Churn'].replace(to_replace='No',  value=0, inplace=True)\n"
          ]
        }
      ]
    },
    {
      "cell_type": "code",
      "source": [
        "df_cor_dummies = [i for i in df_for_cor.columns if i not in ['Churn','tenure','MonthlyCharges','Contract','total_charges','InternetService','payment_method','gender']]\n",
        "df_cor = pd.get_dummies(df_for_cor, columns=df_cor_dummies, drop_first=True)\n",
        "\n",
        "df_cor.head()"
      ],
      "metadata": {
        "colab": {
          "base_uri": "https://localhost:8080/",
          "height": 342
        },
        "id": "CjjieGKYJoZU",
        "outputId": "1db34e38-f286-4a05-9a12-eb5969d7eaa0"
      },
      "execution_count": null,
      "outputs": [
        {
          "output_type": "execute_result",
          "data": {
            "text/plain": [
              "   gender  tenure InternetService        Contract  MonthlyCharges  Churn  \\\n",
              "0  Female       1             DSL  Month-to-month           29.85      0   \n",
              "1    Male      34             DSL        One year           56.95      0   \n",
              "2    Male       2             DSL  Month-to-month           53.85      1   \n",
              "3    Male      45             DSL        One year           42.30      0   \n",
              "4  Female       2     Fiber optic  Month-to-month           70.70      1   \n",
              "\n",
              "     payment_method  total_charges  Partner_Yes  Dependents_Yes  ...  \\\n",
              "0  Electronic check          29.85         True           False  ...   \n",
              "1      Mailed check        1889.50        False           False  ...   \n",
              "2      Mailed check         108.15        False           False  ...   \n",
              "3     Bank transfer        1840.75        False           False  ...   \n",
              "4  Electronic check         151.65        False           False  ...   \n",
              "\n",
              "   DeviceProtection_Yes  TechSupport_No internet service  TechSupport_Yes  \\\n",
              "0                 False                            False            False   \n",
              "1                  True                            False            False   \n",
              "2                 False                            False            False   \n",
              "3                  True                            False             True   \n",
              "4                 False                            False            False   \n",
              "\n",
              "   StreamingTV_No internet service  StreamingTV_Yes  \\\n",
              "0                            False            False   \n",
              "1                            False            False   \n",
              "2                            False            False   \n",
              "3                            False            False   \n",
              "4                            False            False   \n",
              "\n",
              "   StreamingMovies_No internet service  StreamingMovies_Yes  \\\n",
              "0                                False                False   \n",
              "1                                False                False   \n",
              "2                                False                False   \n",
              "3                                False                False   \n",
              "4                                False                False   \n",
              "\n",
              "   PaperlessBilling_Yes  auto_bill_Yes  senior_yes_Yes  \n",
              "0                  True          False           False  \n",
              "1                 False          False           False  \n",
              "2                  True          False           False  \n",
              "3                 False           True           False  \n",
              "4                  True          False           False  \n",
              "\n",
              "[5 rows x 26 columns]"
            ],
            "text/html": [
              "\n",
              "  <div id=\"df-301e3df6-24af-449e-87d1-f51dbf45fbda\" class=\"colab-df-container\">\n",
              "    <div>\n",
              "<style scoped>\n",
              "    .dataframe tbody tr th:only-of-type {\n",
              "        vertical-align: middle;\n",
              "    }\n",
              "\n",
              "    .dataframe tbody tr th {\n",
              "        vertical-align: top;\n",
              "    }\n",
              "\n",
              "    .dataframe thead th {\n",
              "        text-align: right;\n",
              "    }\n",
              "</style>\n",
              "<table border=\"1\" class=\"dataframe\">\n",
              "  <thead>\n",
              "    <tr style=\"text-align: right;\">\n",
              "      <th></th>\n",
              "      <th>gender</th>\n",
              "      <th>tenure</th>\n",
              "      <th>InternetService</th>\n",
              "      <th>Contract</th>\n",
              "      <th>MonthlyCharges</th>\n",
              "      <th>Churn</th>\n",
              "      <th>payment_method</th>\n",
              "      <th>total_charges</th>\n",
              "      <th>Partner_Yes</th>\n",
              "      <th>Dependents_Yes</th>\n",
              "      <th>...</th>\n",
              "      <th>DeviceProtection_Yes</th>\n",
              "      <th>TechSupport_No internet service</th>\n",
              "      <th>TechSupport_Yes</th>\n",
              "      <th>StreamingTV_No internet service</th>\n",
              "      <th>StreamingTV_Yes</th>\n",
              "      <th>StreamingMovies_No internet service</th>\n",
              "      <th>StreamingMovies_Yes</th>\n",
              "      <th>PaperlessBilling_Yes</th>\n",
              "      <th>auto_bill_Yes</th>\n",
              "      <th>senior_yes_Yes</th>\n",
              "    </tr>\n",
              "  </thead>\n",
              "  <tbody>\n",
              "    <tr>\n",
              "      <th>0</th>\n",
              "      <td>Female</td>\n",
              "      <td>1</td>\n",
              "      <td>DSL</td>\n",
              "      <td>Month-to-month</td>\n",
              "      <td>29.85</td>\n",
              "      <td>0</td>\n",
              "      <td>Electronic check</td>\n",
              "      <td>29.85</td>\n",
              "      <td>True</td>\n",
              "      <td>False</td>\n",
              "      <td>...</td>\n",
              "      <td>False</td>\n",
              "      <td>False</td>\n",
              "      <td>False</td>\n",
              "      <td>False</td>\n",
              "      <td>False</td>\n",
              "      <td>False</td>\n",
              "      <td>False</td>\n",
              "      <td>True</td>\n",
              "      <td>False</td>\n",
              "      <td>False</td>\n",
              "    </tr>\n",
              "    <tr>\n",
              "      <th>1</th>\n",
              "      <td>Male</td>\n",
              "      <td>34</td>\n",
              "      <td>DSL</td>\n",
              "      <td>One year</td>\n",
              "      <td>56.95</td>\n",
              "      <td>0</td>\n",
              "      <td>Mailed check</td>\n",
              "      <td>1889.50</td>\n",
              "      <td>False</td>\n",
              "      <td>False</td>\n",
              "      <td>...</td>\n",
              "      <td>True</td>\n",
              "      <td>False</td>\n",
              "      <td>False</td>\n",
              "      <td>False</td>\n",
              "      <td>False</td>\n",
              "      <td>False</td>\n",
              "      <td>False</td>\n",
              "      <td>False</td>\n",
              "      <td>False</td>\n",
              "      <td>False</td>\n",
              "    </tr>\n",
              "    <tr>\n",
              "      <th>2</th>\n",
              "      <td>Male</td>\n",
              "      <td>2</td>\n",
              "      <td>DSL</td>\n",
              "      <td>Month-to-month</td>\n",
              "      <td>53.85</td>\n",
              "      <td>1</td>\n",
              "      <td>Mailed check</td>\n",
              "      <td>108.15</td>\n",
              "      <td>False</td>\n",
              "      <td>False</td>\n",
              "      <td>...</td>\n",
              "      <td>False</td>\n",
              "      <td>False</td>\n",
              "      <td>False</td>\n",
              "      <td>False</td>\n",
              "      <td>False</td>\n",
              "      <td>False</td>\n",
              "      <td>False</td>\n",
              "      <td>True</td>\n",
              "      <td>False</td>\n",
              "      <td>False</td>\n",
              "    </tr>\n",
              "    <tr>\n",
              "      <th>3</th>\n",
              "      <td>Male</td>\n",
              "      <td>45</td>\n",
              "      <td>DSL</td>\n",
              "      <td>One year</td>\n",
              "      <td>42.30</td>\n",
              "      <td>0</td>\n",
              "      <td>Bank transfer</td>\n",
              "      <td>1840.75</td>\n",
              "      <td>False</td>\n",
              "      <td>False</td>\n",
              "      <td>...</td>\n",
              "      <td>True</td>\n",
              "      <td>False</td>\n",
              "      <td>True</td>\n",
              "      <td>False</td>\n",
              "      <td>False</td>\n",
              "      <td>False</td>\n",
              "      <td>False</td>\n",
              "      <td>False</td>\n",
              "      <td>True</td>\n",
              "      <td>False</td>\n",
              "    </tr>\n",
              "    <tr>\n",
              "      <th>4</th>\n",
              "      <td>Female</td>\n",
              "      <td>2</td>\n",
              "      <td>Fiber optic</td>\n",
              "      <td>Month-to-month</td>\n",
              "      <td>70.70</td>\n",
              "      <td>1</td>\n",
              "      <td>Electronic check</td>\n",
              "      <td>151.65</td>\n",
              "      <td>False</td>\n",
              "      <td>False</td>\n",
              "      <td>...</td>\n",
              "      <td>False</td>\n",
              "      <td>False</td>\n",
              "      <td>False</td>\n",
              "      <td>False</td>\n",
              "      <td>False</td>\n",
              "      <td>False</td>\n",
              "      <td>False</td>\n",
              "      <td>True</td>\n",
              "      <td>False</td>\n",
              "      <td>False</td>\n",
              "    </tr>\n",
              "  </tbody>\n",
              "</table>\n",
              "<p>5 rows × 26 columns</p>\n",
              "</div>\n",
              "    <div class=\"colab-df-buttons\">\n",
              "\n",
              "  <div class=\"colab-df-container\">\n",
              "    <button class=\"colab-df-convert\" onclick=\"convertToInteractive('df-301e3df6-24af-449e-87d1-f51dbf45fbda')\"\n",
              "            title=\"Convert this dataframe to an interactive table.\"\n",
              "            style=\"display:none;\">\n",
              "\n",
              "  <svg xmlns=\"http://www.w3.org/2000/svg\" height=\"24px\" viewBox=\"0 -960 960 960\">\n",
              "    <path d=\"M120-120v-720h720v720H120Zm60-500h600v-160H180v160Zm220 220h160v-160H400v160Zm0 220h160v-160H400v160ZM180-400h160v-160H180v160Zm440 0h160v-160H620v160ZM180-180h160v-160H180v160Zm440 0h160v-160H620v160Z\"/>\n",
              "  </svg>\n",
              "    </button>\n",
              "\n",
              "  <style>\n",
              "    .colab-df-container {\n",
              "      display:flex;\n",
              "      gap: 12px;\n",
              "    }\n",
              "\n",
              "    .colab-df-convert {\n",
              "      background-color: #E8F0FE;\n",
              "      border: none;\n",
              "      border-radius: 50%;\n",
              "      cursor: pointer;\n",
              "      display: none;\n",
              "      fill: #1967D2;\n",
              "      height: 32px;\n",
              "      padding: 0 0 0 0;\n",
              "      width: 32px;\n",
              "    }\n",
              "\n",
              "    .colab-df-convert:hover {\n",
              "      background-color: #E2EBFA;\n",
              "      box-shadow: 0px 1px 2px rgba(60, 64, 67, 0.3), 0px 1px 3px 1px rgba(60, 64, 67, 0.15);\n",
              "      fill: #174EA6;\n",
              "    }\n",
              "\n",
              "    .colab-df-buttons div {\n",
              "      margin-bottom: 4px;\n",
              "    }\n",
              "\n",
              "    [theme=dark] .colab-df-convert {\n",
              "      background-color: #3B4455;\n",
              "      fill: #D2E3FC;\n",
              "    }\n",
              "\n",
              "    [theme=dark] .colab-df-convert:hover {\n",
              "      background-color: #434B5C;\n",
              "      box-shadow: 0px 1px 3px 1px rgba(0, 0, 0, 0.15);\n",
              "      filter: drop-shadow(0px 1px 2px rgba(0, 0, 0, 0.3));\n",
              "      fill: #FFFFFF;\n",
              "    }\n",
              "  </style>\n",
              "\n",
              "    <script>\n",
              "      const buttonEl =\n",
              "        document.querySelector('#df-301e3df6-24af-449e-87d1-f51dbf45fbda button.colab-df-convert');\n",
              "      buttonEl.style.display =\n",
              "        google.colab.kernel.accessAllowed ? 'block' : 'none';\n",
              "\n",
              "      async function convertToInteractive(key) {\n",
              "        const element = document.querySelector('#df-301e3df6-24af-449e-87d1-f51dbf45fbda');\n",
              "        const dataTable =\n",
              "          await google.colab.kernel.invokeFunction('convertToInteractive',\n",
              "                                                    [key], {});\n",
              "        if (!dataTable) return;\n",
              "\n",
              "        const docLinkHtml = 'Like what you see? Visit the ' +\n",
              "          '<a target=\"_blank\" href=https://colab.research.google.com/notebooks/data_table.ipynb>data table notebook</a>'\n",
              "          + ' to learn more about interactive tables.';\n",
              "        element.innerHTML = '';\n",
              "        dataTable['output_type'] = 'display_data';\n",
              "        await google.colab.output.renderOutput(dataTable, element);\n",
              "        const docLink = document.createElement('div');\n",
              "        docLink.innerHTML = docLinkHtml;\n",
              "        element.appendChild(docLink);\n",
              "      }\n",
              "    </script>\n",
              "  </div>\n",
              "\n",
              "\n",
              "<div id=\"df-e5729fa1-6b7d-404e-a68d-c3c99823cb08\">\n",
              "  <button class=\"colab-df-quickchart\" onclick=\"quickchart('df-e5729fa1-6b7d-404e-a68d-c3c99823cb08')\"\n",
              "            title=\"Suggest charts\"\n",
              "            style=\"display:none;\">\n",
              "\n",
              "<svg xmlns=\"http://www.w3.org/2000/svg\" height=\"24px\"viewBox=\"0 0 24 24\"\n",
              "     width=\"24px\">\n",
              "    <g>\n",
              "        <path d=\"M19 3H5c-1.1 0-2 .9-2 2v14c0 1.1.9 2 2 2h14c1.1 0 2-.9 2-2V5c0-1.1-.9-2-2-2zM9 17H7v-7h2v7zm4 0h-2V7h2v10zm4 0h-2v-4h2v4z\"/>\n",
              "    </g>\n",
              "</svg>\n",
              "  </button>\n",
              "\n",
              "<style>\n",
              "  .colab-df-quickchart {\n",
              "      --bg-color: #E8F0FE;\n",
              "      --fill-color: #1967D2;\n",
              "      --hover-bg-color: #E2EBFA;\n",
              "      --hover-fill-color: #174EA6;\n",
              "      --disabled-fill-color: #AAA;\n",
              "      --disabled-bg-color: #DDD;\n",
              "  }\n",
              "\n",
              "  [theme=dark] .colab-df-quickchart {\n",
              "      --bg-color: #3B4455;\n",
              "      --fill-color: #D2E3FC;\n",
              "      --hover-bg-color: #434B5C;\n",
              "      --hover-fill-color: #FFFFFF;\n",
              "      --disabled-bg-color: #3B4455;\n",
              "      --disabled-fill-color: #666;\n",
              "  }\n",
              "\n",
              "  .colab-df-quickchart {\n",
              "    background-color: var(--bg-color);\n",
              "    border: none;\n",
              "    border-radius: 50%;\n",
              "    cursor: pointer;\n",
              "    display: none;\n",
              "    fill: var(--fill-color);\n",
              "    height: 32px;\n",
              "    padding: 0;\n",
              "    width: 32px;\n",
              "  }\n",
              "\n",
              "  .colab-df-quickchart:hover {\n",
              "    background-color: var(--hover-bg-color);\n",
              "    box-shadow: 0 1px 2px rgba(60, 64, 67, 0.3), 0 1px 3px 1px rgba(60, 64, 67, 0.15);\n",
              "    fill: var(--button-hover-fill-color);\n",
              "  }\n",
              "\n",
              "  .colab-df-quickchart-complete:disabled,\n",
              "  .colab-df-quickchart-complete:disabled:hover {\n",
              "    background-color: var(--disabled-bg-color);\n",
              "    fill: var(--disabled-fill-color);\n",
              "    box-shadow: none;\n",
              "  }\n",
              "\n",
              "  .colab-df-spinner {\n",
              "    border: 2px solid var(--fill-color);\n",
              "    border-color: transparent;\n",
              "    border-bottom-color: var(--fill-color);\n",
              "    animation:\n",
              "      spin 1s steps(1) infinite;\n",
              "  }\n",
              "\n",
              "  @keyframes spin {\n",
              "    0% {\n",
              "      border-color: transparent;\n",
              "      border-bottom-color: var(--fill-color);\n",
              "      border-left-color: var(--fill-color);\n",
              "    }\n",
              "    20% {\n",
              "      border-color: transparent;\n",
              "      border-left-color: var(--fill-color);\n",
              "      border-top-color: var(--fill-color);\n",
              "    }\n",
              "    30% {\n",
              "      border-color: transparent;\n",
              "      border-left-color: var(--fill-color);\n",
              "      border-top-color: var(--fill-color);\n",
              "      border-right-color: var(--fill-color);\n",
              "    }\n",
              "    40% {\n",
              "      border-color: transparent;\n",
              "      border-right-color: var(--fill-color);\n",
              "      border-top-color: var(--fill-color);\n",
              "    }\n",
              "    60% {\n",
              "      border-color: transparent;\n",
              "      border-right-color: var(--fill-color);\n",
              "    }\n",
              "    80% {\n",
              "      border-color: transparent;\n",
              "      border-right-color: var(--fill-color);\n",
              "      border-bottom-color: var(--fill-color);\n",
              "    }\n",
              "    90% {\n",
              "      border-color: transparent;\n",
              "      border-bottom-color: var(--fill-color);\n",
              "    }\n",
              "  }\n",
              "</style>\n",
              "\n",
              "  <script>\n",
              "    async function quickchart(key) {\n",
              "      const quickchartButtonEl =\n",
              "        document.querySelector('#' + key + ' button');\n",
              "      quickchartButtonEl.disabled = true;  // To prevent multiple clicks.\n",
              "      quickchartButtonEl.classList.add('colab-df-spinner');\n",
              "      try {\n",
              "        const charts = await google.colab.kernel.invokeFunction(\n",
              "            'suggestCharts', [key], {});\n",
              "      } catch (error) {\n",
              "        console.error('Error during call to suggestCharts:', error);\n",
              "      }\n",
              "      quickchartButtonEl.classList.remove('colab-df-spinner');\n",
              "      quickchartButtonEl.classList.add('colab-df-quickchart-complete');\n",
              "    }\n",
              "    (() => {\n",
              "      let quickchartButtonEl =\n",
              "        document.querySelector('#df-e5729fa1-6b7d-404e-a68d-c3c99823cb08 button');\n",
              "      quickchartButtonEl.style.display =\n",
              "        google.colab.kernel.accessAllowed ? 'block' : 'none';\n",
              "    })();\n",
              "  </script>\n",
              "</div>\n",
              "\n",
              "    </div>\n",
              "  </div>\n"
            ],
            "application/vnd.google.colaboratory.intrinsic+json": {
              "type": "dataframe",
              "variable_name": "df_cor"
            }
          },
          "metadata": {},
          "execution_count": 8
        }
      ]
    },
    {
      "cell_type": "code",
      "source": [
        "df_cor_dummies_2 = [i for i in df_cor.columns if i in ['Contract','InternetService','payment_method','gender']]\n",
        "df_final = pd.get_dummies(df_cor, columns=df_cor_dummies_2, drop_first=False)\n",
        "\n",
        "df_final.info()"
      ],
      "metadata": {
        "colab": {
          "base_uri": "https://localhost:8080/"
        },
        "id": "4JWoD8HZKSkI",
        "outputId": "bcdd9fb8-3230-4026-e929-5845479d0929"
      },
      "execution_count": null,
      "outputs": [
        {
          "output_type": "stream",
          "name": "stdout",
          "text": [
            "<class 'pandas.core.frame.DataFrame'>\n",
            "RangeIndex: 7043 entries, 0 to 7042\n",
            "Data columns (total 34 columns):\n",
            " #   Column                                Non-Null Count  Dtype  \n",
            "---  ------                                --------------  -----  \n",
            " 0   tenure                                7043 non-null   int64  \n",
            " 1   MonthlyCharges                        7043 non-null   float64\n",
            " 2   Churn                                 7043 non-null   int64  \n",
            " 3   total_charges                         7043 non-null   float64\n",
            " 4   Partner_Yes                           7043 non-null   bool   \n",
            " 5   Dependents_Yes                        7043 non-null   bool   \n",
            " 6   PhoneService_Yes                      7043 non-null   bool   \n",
            " 7   MultipleLines_No phone service        7043 non-null   bool   \n",
            " 8   MultipleLines_Yes                     7043 non-null   bool   \n",
            " 9   OnlineSecurity_No internet service    7043 non-null   bool   \n",
            " 10  OnlineSecurity_Yes                    7043 non-null   bool   \n",
            " 11  DeviceProtection_No internet service  7043 non-null   bool   \n",
            " 12  DeviceProtection_Yes                  7043 non-null   bool   \n",
            " 13  TechSupport_No internet service       7043 non-null   bool   \n",
            " 14  TechSupport_Yes                       7043 non-null   bool   \n",
            " 15  StreamingTV_No internet service       7043 non-null   bool   \n",
            " 16  StreamingTV_Yes                       7043 non-null   bool   \n",
            " 17  StreamingMovies_No internet service   7043 non-null   bool   \n",
            " 18  StreamingMovies_Yes                   7043 non-null   bool   \n",
            " 19  PaperlessBilling_Yes                  7043 non-null   bool   \n",
            " 20  auto_bill_Yes                         7043 non-null   bool   \n",
            " 21  senior_yes_Yes                        7043 non-null   bool   \n",
            " 22  gender_Female                         7043 non-null   bool   \n",
            " 23  gender_Male                           7043 non-null   bool   \n",
            " 24  InternetService_DSL                   7043 non-null   bool   \n",
            " 25  InternetService_Fiber optic           7043 non-null   bool   \n",
            " 26  InternetService_No                    7043 non-null   bool   \n",
            " 27  Contract_Month-to-month               7043 non-null   bool   \n",
            " 28  Contract_One year                     7043 non-null   bool   \n",
            " 29  Contract_Two year                     7043 non-null   bool   \n",
            " 30  payment_method_Bank transfer          7043 non-null   bool   \n",
            " 31  payment_method_Credit card            7043 non-null   bool   \n",
            " 32  payment_method_Electronic check       7043 non-null   bool   \n",
            " 33  payment_method_Mailed check           7043 non-null   bool   \n",
            "dtypes: bool(30), float64(2), int64(2)\n",
            "memory usage: 426.6 KB\n"
          ]
        }
      ]
    },
    {
      "cell_type": "code",
      "source": [
        "bool_columns = ['Partner_Yes','Dependents_Yes','PhoneService_Yes','MultipleLines_No phone service','MultipleLines_Yes',\n",
        "                'OnlineSecurity_No internet service','OnlineSecurity_Yes','DeviceProtection_No internet service',\n",
        "                'DeviceProtection_Yes','TechSupport_No internet service','TechSupport_Yes','StreamingTV_No internet service',\n",
        "                'StreamingTV_Yes','StreamingMovies_No internet service','StreamingMovies_Yes','PaperlessBilling_Yes',\n",
        "                'auto_bill_Yes','senior_yes_Yes','gender_Female','gender_Male','InternetService_DSL','InternetService_Fiber optic',\n",
        "                'InternetService_No','Contract_Month-to-month','Contract_One year','Contract_Two year','payment_method_Bank transfer',\n",
        "                'payment_method_Credit card','payment_method_Electronic check','payment_method_Mailed check']\n",
        "\n",
        "for col in bool_columns:\n",
        "    df_final[col] = df_final[col].astype(int)\n",
        "\n",
        "df_final.info()"
      ],
      "metadata": {
        "colab": {
          "base_uri": "https://localhost:8080/"
        },
        "id": "GCaR5eJRMuG6",
        "outputId": "14b550bc-9270-4b5d-a24c-7c8e80ebd39c"
      },
      "execution_count": null,
      "outputs": [
        {
          "output_type": "stream",
          "name": "stdout",
          "text": [
            "<class 'pandas.core.frame.DataFrame'>\n",
            "RangeIndex: 7043 entries, 0 to 7042\n",
            "Data columns (total 34 columns):\n",
            " #   Column                                Non-Null Count  Dtype  \n",
            "---  ------                                --------------  -----  \n",
            " 0   tenure                                7043 non-null   int64  \n",
            " 1   MonthlyCharges                        7043 non-null   float64\n",
            " 2   Churn                                 7043 non-null   int64  \n",
            " 3   total_charges                         7043 non-null   float64\n",
            " 4   Partner_Yes                           7043 non-null   int64  \n",
            " 5   Dependents_Yes                        7043 non-null   int64  \n",
            " 6   PhoneService_Yes                      7043 non-null   int64  \n",
            " 7   MultipleLines_No phone service        7043 non-null   int64  \n",
            " 8   MultipleLines_Yes                     7043 non-null   int64  \n",
            " 9   OnlineSecurity_No internet service    7043 non-null   int64  \n",
            " 10  OnlineSecurity_Yes                    7043 non-null   int64  \n",
            " 11  DeviceProtection_No internet service  7043 non-null   int64  \n",
            " 12  DeviceProtection_Yes                  7043 non-null   int64  \n",
            " 13  TechSupport_No internet service       7043 non-null   int64  \n",
            " 14  TechSupport_Yes                       7043 non-null   int64  \n",
            " 15  StreamingTV_No internet service       7043 non-null   int64  \n",
            " 16  StreamingTV_Yes                       7043 non-null   int64  \n",
            " 17  StreamingMovies_No internet service   7043 non-null   int64  \n",
            " 18  StreamingMovies_Yes                   7043 non-null   int64  \n",
            " 19  PaperlessBilling_Yes                  7043 non-null   int64  \n",
            " 20  auto_bill_Yes                         7043 non-null   int64  \n",
            " 21  senior_yes_Yes                        7043 non-null   int64  \n",
            " 22  gender_Female                         7043 non-null   int64  \n",
            " 23  gender_Male                           7043 non-null   int64  \n",
            " 24  InternetService_DSL                   7043 non-null   int64  \n",
            " 25  InternetService_Fiber optic           7043 non-null   int64  \n",
            " 26  InternetService_No                    7043 non-null   int64  \n",
            " 27  Contract_Month-to-month               7043 non-null   int64  \n",
            " 28  Contract_One year                     7043 non-null   int64  \n",
            " 29  Contract_Two year                     7043 non-null   int64  \n",
            " 30  payment_method_Bank transfer          7043 non-null   int64  \n",
            " 31  payment_method_Credit card            7043 non-null   int64  \n",
            " 32  payment_method_Electronic check       7043 non-null   int64  \n",
            " 33  payment_method_Mailed check           7043 non-null   int64  \n",
            "dtypes: float64(2), int64(32)\n",
            "memory usage: 1.8 MB\n"
          ]
        }
      ]
    },
    {
      "cell_type": "code",
      "source": [
        "df_final_Rename = {'senior_yes_Yes': 'senior_Yes',}\n",
        "\n",
        "df_final.rename(columns=df_final_Rename, inplace=True)\n",
        "\n",
        "df_final.info()"
      ],
      "metadata": {
        "colab": {
          "base_uri": "https://localhost:8080/"
        },
        "id": "j04UQhPeNHjp",
        "outputId": "66190005-04f9-48ee-a39a-7dab2033bdc7"
      },
      "execution_count": null,
      "outputs": [
        {
          "output_type": "stream",
          "name": "stdout",
          "text": [
            "<class 'pandas.core.frame.DataFrame'>\n",
            "RangeIndex: 7043 entries, 0 to 7042\n",
            "Data columns (total 34 columns):\n",
            " #   Column                                Non-Null Count  Dtype  \n",
            "---  ------                                --------------  -----  \n",
            " 0   tenure                                7043 non-null   int64  \n",
            " 1   MonthlyCharges                        7043 non-null   float64\n",
            " 2   Churn                                 7043 non-null   int64  \n",
            " 3   total_charges                         7043 non-null   float64\n",
            " 4   Partner_Yes                           7043 non-null   int64  \n",
            " 5   Dependents_Yes                        7043 non-null   int64  \n",
            " 6   PhoneService_Yes                      7043 non-null   int64  \n",
            " 7   MultipleLines_No phone service        7043 non-null   int64  \n",
            " 8   MultipleLines_Yes                     7043 non-null   int64  \n",
            " 9   OnlineSecurity_No internet service    7043 non-null   int64  \n",
            " 10  OnlineSecurity_Yes                    7043 non-null   int64  \n",
            " 11  DeviceProtection_No internet service  7043 non-null   int64  \n",
            " 12  DeviceProtection_Yes                  7043 non-null   int64  \n",
            " 13  TechSupport_No internet service       7043 non-null   int64  \n",
            " 14  TechSupport_Yes                       7043 non-null   int64  \n",
            " 15  StreamingTV_No internet service       7043 non-null   int64  \n",
            " 16  StreamingTV_Yes                       7043 non-null   int64  \n",
            " 17  StreamingMovies_No internet service   7043 non-null   int64  \n",
            " 18  StreamingMovies_Yes                   7043 non-null   int64  \n",
            " 19  PaperlessBilling_Yes                  7043 non-null   int64  \n",
            " 20  auto_bill_Yes                         7043 non-null   int64  \n",
            " 21  senior_Yes                            7043 non-null   int64  \n",
            " 22  gender_Female                         7043 non-null   int64  \n",
            " 23  gender_Male                           7043 non-null   int64  \n",
            " 24  InternetService_DSL                   7043 non-null   int64  \n",
            " 25  InternetService_Fiber optic           7043 non-null   int64  \n",
            " 26  InternetService_No                    7043 non-null   int64  \n",
            " 27  Contract_Month-to-month               7043 non-null   int64  \n",
            " 28  Contract_One year                     7043 non-null   int64  \n",
            " 29  Contract_Two year                     7043 non-null   int64  \n",
            " 30  payment_method_Bank transfer          7043 non-null   int64  \n",
            " 31  payment_method_Credit card            7043 non-null   int64  \n",
            " 32  payment_method_Electronic check       7043 non-null   int64  \n",
            " 33  payment_method_Mailed check           7043 non-null   int64  \n",
            "dtypes: float64(2), int64(32)\n",
            "memory usage: 1.8 MB\n"
          ]
        }
      ]
    },
    {
      "cell_type": "code",
      "source": [
        "df_final.to_csv(\"GROUP1_TELCO_CHURN_for_Correlation.csv\", index=False)"
      ],
      "metadata": {
        "id": "8vO03xiDNWc5"
      },
      "execution_count": null,
      "outputs": []
    },
    {
      "cell_type": "code",
      "source": [
        "import pandas as pd\n",
        "\n",
        "dv = pd.read_csv('/content/Group1_Telco_Churn.csv')\n",
        "\n",
        "dv.info()"
      ],
      "metadata": {
        "colab": {
          "base_uri": "https://localhost:8080/"
        },
        "id": "eIMWCS_sl2h2",
        "outputId": "38c35b33-a6d2-4c5b-b8f1-240657ff437d"
      },
      "execution_count": null,
      "outputs": [
        {
          "output_type": "stream",
          "name": "stdout",
          "text": [
            "<class 'pandas.core.frame.DataFrame'>\n",
            "RangeIndex: 7043 entries, 0 to 7042\n",
            "Data columns (total 23 columns):\n",
            " #   Column            Non-Null Count  Dtype  \n",
            "---  ------            --------------  -----  \n",
            " 0   customerID        7043 non-null   object \n",
            " 1   gender            7043 non-null   object \n",
            " 2   SeniorCitizen     7043 non-null   int64  \n",
            " 3   Partner           7043 non-null   object \n",
            " 4   Dependents        7043 non-null   object \n",
            " 5   tenure            7043 non-null   int64  \n",
            " 6   PhoneService      7043 non-null   object \n",
            " 7   MultipleLines     7043 non-null   object \n",
            " 8   InternetService   7043 non-null   object \n",
            " 9   OnlineSecurity    7043 non-null   object \n",
            " 10  OnlineBackup      7043 non-null   object \n",
            " 11  DeviceProtection  7043 non-null   object \n",
            " 12  TechSupport       7043 non-null   object \n",
            " 13  StreamingTV       7043 non-null   object \n",
            " 14  StreamingMovies   7043 non-null   object \n",
            " 15  Contract          7043 non-null   object \n",
            " 16  Contract Length   7043 non-null   int64  \n",
            " 17  PaperlessBilling  7043 non-null   object \n",
            " 18  Bill / Auto       7043 non-null   object \n",
            " 19  PaymentMethod     7043 non-null   object \n",
            " 20  MonthlyCharges    7043 non-null   float64\n",
            " 21  TotalCharges      7043 non-null   object \n",
            " 22  Churn             7043 non-null   object \n",
            "dtypes: float64(1), int64(3), object(19)\n",
            "memory usage: 1.2+ MB\n"
          ]
        }
      ]
    },
    {
      "cell_type": "code",
      "source": [
        "dv['total_charges'] = pd.to_numeric(dv['TotalCharges'].str.strip().replace('', '0'))\n",
        "\n",
        "def format_seniorCitizen(value):\n",
        "    return str(value).replace('0','No').replace('1','Yes')\n",
        "\n",
        "dv['senior_yes'] = dv['SeniorCitizen'].apply(format_seniorCitizen)\n",
        "\n",
        "dv.drop(['SeniorCitizen','TotalCharges','customerID'], axis = 1, inplace = True)\n",
        "\n",
        "dv.info()"
      ],
      "metadata": {
        "colab": {
          "base_uri": "https://localhost:8080/"
        },
        "id": "DT5vcpbOmIgk",
        "outputId": "56465616-9704-488f-e840-cc80f4ed9f12"
      },
      "execution_count": null,
      "outputs": [
        {
          "output_type": "stream",
          "name": "stdout",
          "text": [
            "<class 'pandas.core.frame.DataFrame'>\n",
            "RangeIndex: 7043 entries, 0 to 7042\n",
            "Data columns (total 22 columns):\n",
            " #   Column            Non-Null Count  Dtype  \n",
            "---  ------            --------------  -----  \n",
            " 0   gender            7043 non-null   object \n",
            " 1   Partner           7043 non-null   object \n",
            " 2   Dependents        7043 non-null   object \n",
            " 3   tenure            7043 non-null   int64  \n",
            " 4   PhoneService      7043 non-null   object \n",
            " 5   MultipleLines     7043 non-null   object \n",
            " 6   InternetService   7043 non-null   object \n",
            " 7   OnlineSecurity    7043 non-null   object \n",
            " 8   OnlineBackup      7043 non-null   object \n",
            " 9   DeviceProtection  7043 non-null   object \n",
            " 10  TechSupport       7043 non-null   object \n",
            " 11  StreamingTV       7043 non-null   object \n",
            " 12  StreamingMovies   7043 non-null   object \n",
            " 13  Contract          7043 non-null   object \n",
            " 14  Contract Length   7043 non-null   int64  \n",
            " 15  PaperlessBilling  7043 non-null   object \n",
            " 16  Bill / Auto       7043 non-null   object \n",
            " 17  PaymentMethod     7043 non-null   object \n",
            " 18  MonthlyCharges    7043 non-null   float64\n",
            " 19  Churn             7043 non-null   object \n",
            " 20  total_charges     7043 non-null   float64\n",
            " 21  senior_yes        7043 non-null   object \n",
            "dtypes: float64(2), int64(2), object(18)\n",
            "memory usage: 1.2+ MB\n"
          ]
        }
      ]
    },
    {
      "cell_type": "code",
      "source": [
        "dv.to_csv(\"GROUP1_TELCO_CHURN_For_DV.csv\", index=False)"
      ],
      "metadata": {
        "id": "YKCeSo7Bm-ix"
      },
      "execution_count": null,
      "outputs": []
    }
  ]
}